{
 "cells": [
  {
   "cell_type": "markdown",
   "metadata": {
    "id": "P6jqMdzeF07Q"
   },
   "source": [
    "# Analyzing Suicide and Homicide rates in all countries\n",
    "In this project we will analyzie the suicide and homcide dataset from kaggle and extract some interesting facts from it. (link for the dataset : https://www.kaggle.com/datasets/prasertk/homicide-suicide-rate-and-gdp)"
   ]
  },
  {
   "cell_type": "markdown",
   "metadata": {
    "id": "d91JtYyWF07S"
   },
   "source": [
    "## Downloading the Dataset\n",
    "\n",
    "We will download the required dataset from kaggle and upload it to the root folder of the notebook. Alernatively we can use the opendatasets library of python to bypass the download and uploading processing but for that you need to have an account on kaggle. "
   ]
  },
  {
   "cell_type": "markdown",
   "metadata": {
    "id": "juPDZlocF07W"
   },
   "source": [
    "The dataset has been downloaded extracted and uiploaded. Now let's begin by listing the files within the dataset."
   ]
  },
  {
   "cell_type": "code",
   "execution_count": 2,
   "metadata": {
    "executionInfo": {
     "elapsed": 4,
     "status": "ok",
     "timestamp": 1648736029678,
     "user": {
      "displayName": "AJIT SINGH",
      "userId": "13557022148140651253"
     },
     "user_tz": -330
    },
    "id": "fjAUyaP2F07b"
   },
   "outputs": [],
   "source": [
    "data_dir = './'"
   ]
  },
  {
   "cell_type": "code",
   "execution_count": 3,
   "metadata": {
    "colab": {
     "base_uri": "https://localhost:8080/"
    },
    "executionInfo": {
     "elapsed": 4,
     "status": "ok",
     "timestamp": 1648736032405,
     "user": {
      "displayName": "AJIT SINGH",
      "userId": "13557022148140651253"
     },
     "user_tz": -330
    },
    "id": "WfWkadvIF07b",
    "outputId": "4ae51364-975e-4587-8f72-a98b1df769e6"
   },
   "outputs": [
    {
     "data": {
      "text/plain": [
       "['.config', 'suicide homicide gdp.csv', 'sample_data']"
      ]
     },
     "execution_count": 3,
     "metadata": {},
     "output_type": "execute_result"
    }
   ],
   "source": [
    "import os\n",
    "os.listdir(data_dir)"
   ]
  },
  {
   "cell_type": "markdown",
   "metadata": {
    "id": "1lGIZDYNF07c"
   },
   "source": [
    "Let us save and upload our work to Jovian before continuing."
   ]
  },
  {
   "cell_type": "code",
   "execution_count": 4,
   "metadata": {
    "executionInfo": {
     "elapsed": 3,
     "status": "ok",
     "timestamp": 1648736036840,
     "user": {
      "displayName": "AJIT SINGH",
      "userId": "13557022148140651253"
     },
     "user_tz": -330
    },
    "id": "PRAO_2woF07d"
   },
   "outputs": [],
   "source": [
    "project_name = \"Analysis of Homicide and Sucide rates of countries\" "
   ]
  },
  {
   "cell_type": "code",
   "execution_count": 5,
   "metadata": {
    "executionInfo": {
     "elapsed": 3604,
     "status": "ok",
     "timestamp": 1648736041610,
     "user": {
      "displayName": "AJIT SINGH",
      "userId": "13557022148140651253"
     },
     "user_tz": -330
    },
    "id": "b9h3KI4qF07d"
   },
   "outputs": [],
   "source": [
    "!pip install jovian --upgrade -q"
   ]
  },
  {
   "cell_type": "code",
   "execution_count": 6,
   "metadata": {
    "executionInfo": {
     "elapsed": 36,
     "status": "ok",
     "timestamp": 1648736041611,
     "user": {
      "displayName": "AJIT SINGH",
      "userId": "13557022148140651253"
     },
     "user_tz": -330
    },
    "id": "CfuybaMGF07d"
   },
   "outputs": [],
   "source": [
    "import jovian"
   ]
  },
  {
   "cell_type": "code",
   "execution_count": 7,
   "metadata": {
    "colab": {
     "base_uri": "https://localhost:8080/",
     "height": 129
    },
    "executionInfo": {
     "elapsed": 14843,
     "status": "ok",
     "timestamp": 1648736056419,
     "user": {
      "displayName": "AJIT SINGH",
      "userId": "13557022148140651253"
     },
     "user_tz": -330
    },
    "id": "6vZlgvZvF07e",
    "outputId": "5ff90418-3f98-4725-8f2f-1340ce160499"
   },
   "outputs": [
    {
     "name": "stdout",
     "output_type": "stream",
     "text": [
      "[jovian] Detected Colab notebook...\u001b[0m\n",
      "[jovian] Please enter your API key ( from https://jovian.ai/ ):\u001b[0m\n",
      "API KEY: ··········\n",
      "[jovian] Uploading colab notebook to Jovian...\u001b[0m\n",
      "Committed successfully! https://jovian.ai/2019phs1005/analysis-of-homicide-and-sucide-rates-of-countries\n"
     ]
    },
    {
     "data": {
      "application/vnd.google.colaboratory.intrinsic+json": {
       "type": "string"
      },
      "text/plain": [
       "'https://jovian.ai/2019phs1005/analysis-of-homicide-and-sucide-rates-of-countries'"
      ]
     },
     "execution_count": 7,
     "metadata": {},
     "output_type": "execute_result"
    }
   ],
   "source": [
    "jovian.commit(project=project_name)"
   ]
  },
  {
   "cell_type": "markdown",
   "metadata": {
    "id": "vhx8FPHXKvvY"
   },
   "source": [
    "Before we start any processing of our data we will import all the libraries that we will be needing for the project."
   ]
  },
  {
   "cell_type": "code",
   "execution_count": 8,
   "metadata": {
    "executionInfo": {
     "elapsed": 699,
     "status": "ok",
     "timestamp": 1648736061486,
     "user": {
      "displayName": "AJIT SINGH",
      "userId": "13557022148140651253"
     },
     "user_tz": -330
    },
    "id": "KND4N8gSVtjJ"
   },
   "outputs": [],
   "source": [
    "import numpy as np\n",
    "import pandas as pd\n",
    "import seaborn as sn\n",
    "import matplotlib.pyplot as plt"
   ]
  },
  {
   "cell_type": "markdown",
   "metadata": {
    "id": "kZ1CDLecF07e"
   },
   "source": [
    "## Data Preparation and Cleaning\n",
    "\n",
    "We will now load our dataset into a dataframe using the pandas library and prepare our data for further processing.\n",
    "\n"
   ]
  },
  {
   "cell_type": "code",
   "execution_count": 9,
   "metadata": {
    "colab": {
     "base_uri": "https://localhost:8080/",
     "height": 589
    },
    "executionInfo": {
     "elapsed": 483,
     "status": "ok",
     "timestamp": 1648736064685,
     "user": {
      "displayName": "AJIT SINGH",
      "userId": "13557022148140651253"
     },
     "user_tz": -330
    },
    "id": "bHmFmwYjF07f",
    "outputId": "3259d35d-2ad1-4efe-fe23-95cfdfbcf2f6"
   },
   "outputs": [
    {
     "data": {
      "text/html": [
       "\n",
       "  <div id=\"df-2bbe9537-5bd7-49e9-9aff-32fe76df06eb\">\n",
       "    <div class=\"colab-df-container\">\n",
       "      <div>\n",
       "<style scoped>\n",
       "    .dataframe tbody tr th:only-of-type {\n",
       "        vertical-align: middle;\n",
       "    }\n",
       "\n",
       "    .dataframe tbody tr th {\n",
       "        vertical-align: top;\n",
       "    }\n",
       "\n",
       "    .dataframe thead th {\n",
       "        text-align: right;\n",
       "    }\n",
       "</style>\n",
       "<table border=\"1\" class=\"dataframe\">\n",
       "  <thead>\n",
       "    <tr style=\"text-align: right;\">\n",
       "      <th></th>\n",
       "      <th>country</th>\n",
       "      <th>iso3c</th>\n",
       "      <th>iso2c</th>\n",
       "      <th>year</th>\n",
       "      <th>Intentional homicides (per 100,000 people)</th>\n",
       "      <th>Suicide mortality rate (per 100,000 population)</th>\n",
       "      <th>GDP (current US$)</th>\n",
       "      <th>GDP per capita, PPP (current international $)</th>\n",
       "      <th>adminregion</th>\n",
       "      <th>incomeLevel</th>\n",
       "    </tr>\n",
       "  </thead>\n",
       "  <tbody>\n",
       "    <tr>\n",
       "      <th>0</th>\n",
       "      <td>Afghanistan</td>\n",
       "      <td>AFG</td>\n",
       "      <td>AF</td>\n",
       "      <td>1970</td>\n",
       "      <td>NaN</td>\n",
       "      <td>NaN</td>\n",
       "      <td>1.748887e+09</td>\n",
       "      <td>NaN</td>\n",
       "      <td>South Asia</td>\n",
       "      <td>Low income</td>\n",
       "    </tr>\n",
       "    <tr>\n",
       "      <th>1</th>\n",
       "      <td>Afghanistan</td>\n",
       "      <td>AFG</td>\n",
       "      <td>AF</td>\n",
       "      <td>1971</td>\n",
       "      <td>NaN</td>\n",
       "      <td>NaN</td>\n",
       "      <td>1.831109e+09</td>\n",
       "      <td>NaN</td>\n",
       "      <td>South Asia</td>\n",
       "      <td>Low income</td>\n",
       "    </tr>\n",
       "    <tr>\n",
       "      <th>2</th>\n",
       "      <td>Afghanistan</td>\n",
       "      <td>AFG</td>\n",
       "      <td>AF</td>\n",
       "      <td>1972</td>\n",
       "      <td>NaN</td>\n",
       "      <td>NaN</td>\n",
       "      <td>1.595555e+09</td>\n",
       "      <td>NaN</td>\n",
       "      <td>South Asia</td>\n",
       "      <td>Low income</td>\n",
       "    </tr>\n",
       "    <tr>\n",
       "      <th>3</th>\n",
       "      <td>Afghanistan</td>\n",
       "      <td>AFG</td>\n",
       "      <td>AF</td>\n",
       "      <td>1973</td>\n",
       "      <td>NaN</td>\n",
       "      <td>NaN</td>\n",
       "      <td>1.733333e+09</td>\n",
       "      <td>NaN</td>\n",
       "      <td>South Asia</td>\n",
       "      <td>Low income</td>\n",
       "    </tr>\n",
       "    <tr>\n",
       "      <th>4</th>\n",
       "      <td>Afghanistan</td>\n",
       "      <td>AFG</td>\n",
       "      <td>AF</td>\n",
       "      <td>1974</td>\n",
       "      <td>NaN</td>\n",
       "      <td>NaN</td>\n",
       "      <td>2.155555e+09</td>\n",
       "      <td>NaN</td>\n",
       "      <td>South Asia</td>\n",
       "      <td>Low income</td>\n",
       "    </tr>\n",
       "    <tr>\n",
       "      <th>...</th>\n",
       "      <td>...</td>\n",
       "      <td>...</td>\n",
       "      <td>...</td>\n",
       "      <td>...</td>\n",
       "      <td>...</td>\n",
       "      <td>...</td>\n",
       "      <td>...</td>\n",
       "      <td>...</td>\n",
       "      <td>...</td>\n",
       "      <td>...</td>\n",
       "    </tr>\n",
       "    <tr>\n",
       "      <th>13561</th>\n",
       "      <td>Zimbabwe</td>\n",
       "      <td>ZWE</td>\n",
       "      <td>ZW</td>\n",
       "      <td>2016</td>\n",
       "      <td>NaN</td>\n",
       "      <td>16.8</td>\n",
       "      <td>2.054868e+10</td>\n",
       "      <td>2806.469032</td>\n",
       "      <td>Sub-Saharan Africa (excluding high income)</td>\n",
       "      <td>Lower middle income</td>\n",
       "    </tr>\n",
       "    <tr>\n",
       "      <th>13562</th>\n",
       "      <td>Zimbabwe</td>\n",
       "      <td>ZWE</td>\n",
       "      <td>ZW</td>\n",
       "      <td>2017</td>\n",
       "      <td>NaN</td>\n",
       "      <td>15.0</td>\n",
       "      <td>1.758489e+10</td>\n",
       "      <td>3795.642431</td>\n",
       "      <td>Sub-Saharan Africa (excluding high income)</td>\n",
       "      <td>Lower middle income</td>\n",
       "    </tr>\n",
       "    <tr>\n",
       "      <th>13563</th>\n",
       "      <td>Zimbabwe</td>\n",
       "      <td>ZWE</td>\n",
       "      <td>ZW</td>\n",
       "      <td>2018</td>\n",
       "      <td>NaN</td>\n",
       "      <td>14.0</td>\n",
       "      <td>1.811554e+10</td>\n",
       "      <td>4017.221716</td>\n",
       "      <td>Sub-Saharan Africa (excluding high income)</td>\n",
       "      <td>Lower middle income</td>\n",
       "    </tr>\n",
       "    <tr>\n",
       "      <th>13564</th>\n",
       "      <td>Zimbabwe</td>\n",
       "      <td>ZWE</td>\n",
       "      <td>ZW</td>\n",
       "      <td>2019</td>\n",
       "      <td>NaN</td>\n",
       "      <td>14.1</td>\n",
       "      <td>1.928429e+10</td>\n",
       "      <td>3783.547898</td>\n",
       "      <td>Sub-Saharan Africa (excluding high income)</td>\n",
       "      <td>Lower middle income</td>\n",
       "    </tr>\n",
       "    <tr>\n",
       "      <th>13565</th>\n",
       "      <td>Zimbabwe</td>\n",
       "      <td>ZWE</td>\n",
       "      <td>ZW</td>\n",
       "      <td>2020</td>\n",
       "      <td>NaN</td>\n",
       "      <td>NaN</td>\n",
       "      <td>1.805117e+10</td>\n",
       "      <td>3537.351394</td>\n",
       "      <td>Sub-Saharan Africa (excluding high income)</td>\n",
       "      <td>Lower middle income</td>\n",
       "    </tr>\n",
       "  </tbody>\n",
       "</table>\n",
       "<p>13566 rows × 10 columns</p>\n",
       "</div>\n",
       "      <button class=\"colab-df-convert\" onclick=\"convertToInteractive('df-2bbe9537-5bd7-49e9-9aff-32fe76df06eb')\"\n",
       "              title=\"Convert this dataframe to an interactive table.\"\n",
       "              style=\"display:none;\">\n",
       "        \n",
       "  <svg xmlns=\"http://www.w3.org/2000/svg\" height=\"24px\"viewBox=\"0 0 24 24\"\n",
       "       width=\"24px\">\n",
       "    <path d=\"M0 0h24v24H0V0z\" fill=\"none\"/>\n",
       "    <path d=\"M18.56 5.44l.94 2.06.94-2.06 2.06-.94-2.06-.94-.94-2.06-.94 2.06-2.06.94zm-11 1L8.5 8.5l.94-2.06 2.06-.94-2.06-.94L8.5 2.5l-.94 2.06-2.06.94zm10 10l.94 2.06.94-2.06 2.06-.94-2.06-.94-.94-2.06-.94 2.06-2.06.94z\"/><path d=\"M17.41 7.96l-1.37-1.37c-.4-.4-.92-.59-1.43-.59-.52 0-1.04.2-1.43.59L10.3 9.45l-7.72 7.72c-.78.78-.78 2.05 0 2.83L4 21.41c.39.39.9.59 1.41.59.51 0 1.02-.2 1.41-.59l7.78-7.78 2.81-2.81c.8-.78.8-2.07 0-2.86zM5.41 20L4 18.59l7.72-7.72 1.47 1.35L5.41 20z\"/>\n",
       "  </svg>\n",
       "      </button>\n",
       "      \n",
       "  <style>\n",
       "    .colab-df-container {\n",
       "      display:flex;\n",
       "      flex-wrap:wrap;\n",
       "      gap: 12px;\n",
       "    }\n",
       "\n",
       "    .colab-df-convert {\n",
       "      background-color: #E8F0FE;\n",
       "      border: none;\n",
       "      border-radius: 50%;\n",
       "      cursor: pointer;\n",
       "      display: none;\n",
       "      fill: #1967D2;\n",
       "      height: 32px;\n",
       "      padding: 0 0 0 0;\n",
       "      width: 32px;\n",
       "    }\n",
       "\n",
       "    .colab-df-convert:hover {\n",
       "      background-color: #E2EBFA;\n",
       "      box-shadow: 0px 1px 2px rgba(60, 64, 67, 0.3), 0px 1px 3px 1px rgba(60, 64, 67, 0.15);\n",
       "      fill: #174EA6;\n",
       "    }\n",
       "\n",
       "    [theme=dark] .colab-df-convert {\n",
       "      background-color: #3B4455;\n",
       "      fill: #D2E3FC;\n",
       "    }\n",
       "\n",
       "    [theme=dark] .colab-df-convert:hover {\n",
       "      background-color: #434B5C;\n",
       "      box-shadow: 0px 1px 3px 1px rgba(0, 0, 0, 0.15);\n",
       "      filter: drop-shadow(0px 1px 2px rgba(0, 0, 0, 0.3));\n",
       "      fill: #FFFFFF;\n",
       "    }\n",
       "  </style>\n",
       "\n",
       "      <script>\n",
       "        const buttonEl =\n",
       "          document.querySelector('#df-2bbe9537-5bd7-49e9-9aff-32fe76df06eb button.colab-df-convert');\n",
       "        buttonEl.style.display =\n",
       "          google.colab.kernel.accessAllowed ? 'block' : 'none';\n",
       "\n",
       "        async function convertToInteractive(key) {\n",
       "          const element = document.querySelector('#df-2bbe9537-5bd7-49e9-9aff-32fe76df06eb');\n",
       "          const dataTable =\n",
       "            await google.colab.kernel.invokeFunction('convertToInteractive',\n",
       "                                                     [key], {});\n",
       "          if (!dataTable) return;\n",
       "\n",
       "          const docLinkHtml = 'Like what you see? Visit the ' +\n",
       "            '<a target=\"_blank\" href=https://colab.research.google.com/notebooks/data_table.ipynb>data table notebook</a>'\n",
       "            + ' to learn more about interactive tables.';\n",
       "          element.innerHTML = '';\n",
       "          dataTable['output_type'] = 'display_data';\n",
       "          await google.colab.output.renderOutput(dataTable, element);\n",
       "          const docLink = document.createElement('div');\n",
       "          docLink.innerHTML = docLinkHtml;\n",
       "          element.appendChild(docLink);\n",
       "        }\n",
       "      </script>\n",
       "    </div>\n",
       "  </div>\n",
       "  "
      ],
      "text/plain": [
       "           country iso3c iso2c  year  \\\n",
       "0      Afghanistan   AFG    AF  1970   \n",
       "1      Afghanistan   AFG    AF  1971   \n",
       "2      Afghanistan   AFG    AF  1972   \n",
       "3      Afghanistan   AFG    AF  1973   \n",
       "4      Afghanistan   AFG    AF  1974   \n",
       "...            ...   ...   ...   ...   \n",
       "13561     Zimbabwe   ZWE    ZW  2016   \n",
       "13562     Zimbabwe   ZWE    ZW  2017   \n",
       "13563     Zimbabwe   ZWE    ZW  2018   \n",
       "13564     Zimbabwe   ZWE    ZW  2019   \n",
       "13565     Zimbabwe   ZWE    ZW  2020   \n",
       "\n",
       "       Intentional homicides (per 100,000 people)  \\\n",
       "0                                             NaN   \n",
       "1                                             NaN   \n",
       "2                                             NaN   \n",
       "3                                             NaN   \n",
       "4                                             NaN   \n",
       "...                                           ...   \n",
       "13561                                         NaN   \n",
       "13562                                         NaN   \n",
       "13563                                         NaN   \n",
       "13564                                         NaN   \n",
       "13565                                         NaN   \n",
       "\n",
       "       Suicide mortality rate (per 100,000 population)  GDP (current US$)  \\\n",
       "0                                                  NaN       1.748887e+09   \n",
       "1                                                  NaN       1.831109e+09   \n",
       "2                                                  NaN       1.595555e+09   \n",
       "3                                                  NaN       1.733333e+09   \n",
       "4                                                  NaN       2.155555e+09   \n",
       "...                                                ...                ...   \n",
       "13561                                             16.8       2.054868e+10   \n",
       "13562                                             15.0       1.758489e+10   \n",
       "13563                                             14.0       1.811554e+10   \n",
       "13564                                             14.1       1.928429e+10   \n",
       "13565                                              NaN       1.805117e+10   \n",
       "\n",
       "       GDP per capita, PPP (current international $)  \\\n",
       "0                                                NaN   \n",
       "1                                                NaN   \n",
       "2                                                NaN   \n",
       "3                                                NaN   \n",
       "4                                                NaN   \n",
       "...                                              ...   \n",
       "13561                                    2806.469032   \n",
       "13562                                    3795.642431   \n",
       "13563                                    4017.221716   \n",
       "13564                                    3783.547898   \n",
       "13565                                    3537.351394   \n",
       "\n",
       "                                      adminregion          incomeLevel  \n",
       "0                                      South Asia           Low income  \n",
       "1                                      South Asia           Low income  \n",
       "2                                      South Asia           Low income  \n",
       "3                                      South Asia           Low income  \n",
       "4                                      South Asia           Low income  \n",
       "...                                           ...                  ...  \n",
       "13561  Sub-Saharan Africa (excluding high income)  Lower middle income  \n",
       "13562  Sub-Saharan Africa (excluding high income)  Lower middle income  \n",
       "13563  Sub-Saharan Africa (excluding high income)  Lower middle income  \n",
       "13564  Sub-Saharan Africa (excluding high income)  Lower middle income  \n",
       "13565  Sub-Saharan Africa (excluding high income)  Lower middle income  \n",
       "\n",
       "[13566 rows x 10 columns]"
      ]
     },
     "execution_count": 9,
     "metadata": {},
     "output_type": "execute_result"
    }
   ],
   "source": [
    "dataframe = pd.read_csv(\"suicide homicide gdp.csv\")\n",
    "dataframe\n"
   ]
  },
  {
   "cell_type": "markdown",
   "metadata": {
    "id": "ChJEx7HxXH8R"
   },
   "source": [
    "We can see that a lot of the data has NaN values in two columns specifically. This can disrupt our analysis. Se we will now clean up our data and remove nan values using dropna function."
   ]
  },
  {
   "cell_type": "code",
   "execution_count": 10,
   "metadata": {
    "colab": {
     "base_uri": "https://localhost:8080/",
     "height": 589
    },
    "executionInfo": {
     "elapsed": 588,
     "status": "ok",
     "timestamp": 1648736072663,
     "user": {
      "displayName": "AJIT SINGH",
      "userId": "13557022148140651253"
     },
     "user_tz": -330
    },
    "id": "JM3WST_3F07f",
    "outputId": "cc263c44-2e02-49f0-b3ba-758a633b9e7c"
   },
   "outputs": [
    {
     "data": {
      "text/html": [
       "\n",
       "  <div id=\"df-2151610c-699e-4423-9625-53c51a8b01b0\">\n",
       "    <div class=\"colab-df-container\">\n",
       "      <div>\n",
       "<style scoped>\n",
       "    .dataframe tbody tr th:only-of-type {\n",
       "        vertical-align: middle;\n",
       "    }\n",
       "\n",
       "    .dataframe tbody tr th {\n",
       "        vertical-align: top;\n",
       "    }\n",
       "\n",
       "    .dataframe thead th {\n",
       "        text-align: right;\n",
       "    }\n",
       "</style>\n",
       "<table border=\"1\" class=\"dataframe\">\n",
       "  <thead>\n",
       "    <tr style=\"text-align: right;\">\n",
       "      <th></th>\n",
       "      <th>country</th>\n",
       "      <th>iso3c</th>\n",
       "      <th>iso2c</th>\n",
       "      <th>year</th>\n",
       "      <th>Intentional homicides (per 100,000 people)</th>\n",
       "      <th>Suicide mortality rate (per 100,000 population)</th>\n",
       "      <th>GDP (current US$)</th>\n",
       "      <th>GDP per capita, PPP (current international $)</th>\n",
       "      <th>adminregion</th>\n",
       "      <th>incomeLevel</th>\n",
       "    </tr>\n",
       "  </thead>\n",
       "  <tbody>\n",
       "    <tr>\n",
       "      <th>0</th>\n",
       "      <td>Afghanistan</td>\n",
       "      <td>AFG</td>\n",
       "      <td>AF</td>\n",
       "      <td>2009</td>\n",
       "      <td>3.926774</td>\n",
       "      <td>4.4</td>\n",
       "      <td>1.241616e+10</td>\n",
       "      <td>1519.692923</td>\n",
       "      <td>South Asia</td>\n",
       "      <td>Low income</td>\n",
       "    </tr>\n",
       "    <tr>\n",
       "      <th>1</th>\n",
       "      <td>Afghanistan</td>\n",
       "      <td>AFG</td>\n",
       "      <td>AF</td>\n",
       "      <td>2010</td>\n",
       "      <td>3.368110</td>\n",
       "      <td>4.3</td>\n",
       "      <td>1.585668e+10</td>\n",
       "      <td>1710.575411</td>\n",
       "      <td>South Asia</td>\n",
       "      <td>Low income</td>\n",
       "    </tr>\n",
       "    <tr>\n",
       "      <th>2</th>\n",
       "      <td>Afghanistan</td>\n",
       "      <td>AFG</td>\n",
       "      <td>AF</td>\n",
       "      <td>2011</td>\n",
       "      <td>4.087337</td>\n",
       "      <td>4.1</td>\n",
       "      <td>1.780511e+10</td>\n",
       "      <td>1699.488110</td>\n",
       "      <td>South Asia</td>\n",
       "      <td>Low income</td>\n",
       "    </tr>\n",
       "    <tr>\n",
       "      <th>3</th>\n",
       "      <td>Afghanistan</td>\n",
       "      <td>AFG</td>\n",
       "      <td>AF</td>\n",
       "      <td>2012</td>\n",
       "      <td>6.251328</td>\n",
       "      <td>4.0</td>\n",
       "      <td>1.990732e+10</td>\n",
       "      <td>1914.774228</td>\n",
       "      <td>South Asia</td>\n",
       "      <td>Low income</td>\n",
       "    </tr>\n",
       "    <tr>\n",
       "      <th>4</th>\n",
       "      <td>Afghanistan</td>\n",
       "      <td>AFG</td>\n",
       "      <td>AF</td>\n",
       "      <td>2015</td>\n",
       "      <td>9.783922</td>\n",
       "      <td>4.0</td>\n",
       "      <td>1.913421e+10</td>\n",
       "      <td>2087.305323</td>\n",
       "      <td>South Asia</td>\n",
       "      <td>Low income</td>\n",
       "    </tr>\n",
       "    <tr>\n",
       "      <th>...</th>\n",
       "      <td>...</td>\n",
       "      <td>...</td>\n",
       "      <td>...</td>\n",
       "      <td>...</td>\n",
       "      <td>...</td>\n",
       "      <td>...</td>\n",
       "      <td>...</td>\n",
       "      <td>...</td>\n",
       "      <td>...</td>\n",
       "      <td>...</td>\n",
       "    </tr>\n",
       "    <tr>\n",
       "      <th>2468</th>\n",
       "      <td>Zimbabwe</td>\n",
       "      <td>ZWE</td>\n",
       "      <td>ZW</td>\n",
       "      <td>2004</td>\n",
       "      <td>11.281282</td>\n",
       "      <td>14.2</td>\n",
       "      <td>5.805598e+09</td>\n",
       "      <td>1762.520649</td>\n",
       "      <td>Sub-Saharan Africa (excluding high income)</td>\n",
       "      <td>Lower middle income</td>\n",
       "    </tr>\n",
       "    <tr>\n",
       "      <th>2469</th>\n",
       "      <td>Zimbabwe</td>\n",
       "      <td>ZWE</td>\n",
       "      <td>ZW</td>\n",
       "      <td>2005</td>\n",
       "      <td>11.178553</td>\n",
       "      <td>14.0</td>\n",
       "      <td>5.755215e+09</td>\n",
       "      <td>1705.569979</td>\n",
       "      <td>Sub-Saharan Africa (excluding high income)</td>\n",
       "      <td>Lower middle income</td>\n",
       "    </tr>\n",
       "    <tr>\n",
       "      <th>2470</th>\n",
       "      <td>Zimbabwe</td>\n",
       "      <td>ZWE</td>\n",
       "      <td>ZW</td>\n",
       "      <td>2006</td>\n",
       "      <td>8.819056</td>\n",
       "      <td>14.4</td>\n",
       "      <td>5.443896e+09</td>\n",
       "      <td>1685.362389</td>\n",
       "      <td>Sub-Saharan Africa (excluding high income)</td>\n",
       "      <td>Lower middle income</td>\n",
       "    </tr>\n",
       "    <tr>\n",
       "      <th>2471</th>\n",
       "      <td>Zimbabwe</td>\n",
       "      <td>ZWE</td>\n",
       "      <td>ZW</td>\n",
       "      <td>2010</td>\n",
       "      <td>5.599427</td>\n",
       "      <td>21.5</td>\n",
       "      <td>1.204166e+10</td>\n",
       "      <td>1830.827333</td>\n",
       "      <td>Sub-Saharan Africa (excluding high income)</td>\n",
       "      <td>Lower middle income</td>\n",
       "    </tr>\n",
       "    <tr>\n",
       "      <th>2472</th>\n",
       "      <td>Zimbabwe</td>\n",
       "      <td>ZWE</td>\n",
       "      <td>ZW</td>\n",
       "      <td>2012</td>\n",
       "      <td>7.479900</td>\n",
       "      <td>19.7</td>\n",
       "      <td>1.711485e+10</td>\n",
       "      <td>2375.927006</td>\n",
       "      <td>Sub-Saharan Africa (excluding high income)</td>\n",
       "      <td>Lower middle income</td>\n",
       "    </tr>\n",
       "  </tbody>\n",
       "</table>\n",
       "<p>2473 rows × 10 columns</p>\n",
       "</div>\n",
       "      <button class=\"colab-df-convert\" onclick=\"convertToInteractive('df-2151610c-699e-4423-9625-53c51a8b01b0')\"\n",
       "              title=\"Convert this dataframe to an interactive table.\"\n",
       "              style=\"display:none;\">\n",
       "        \n",
       "  <svg xmlns=\"http://www.w3.org/2000/svg\" height=\"24px\"viewBox=\"0 0 24 24\"\n",
       "       width=\"24px\">\n",
       "    <path d=\"M0 0h24v24H0V0z\" fill=\"none\"/>\n",
       "    <path d=\"M18.56 5.44l.94 2.06.94-2.06 2.06-.94-2.06-.94-.94-2.06-.94 2.06-2.06.94zm-11 1L8.5 8.5l.94-2.06 2.06-.94-2.06-.94L8.5 2.5l-.94 2.06-2.06.94zm10 10l.94 2.06.94-2.06 2.06-.94-2.06-.94-.94-2.06-.94 2.06-2.06.94z\"/><path d=\"M17.41 7.96l-1.37-1.37c-.4-.4-.92-.59-1.43-.59-.52 0-1.04.2-1.43.59L10.3 9.45l-7.72 7.72c-.78.78-.78 2.05 0 2.83L4 21.41c.39.39.9.59 1.41.59.51 0 1.02-.2 1.41-.59l7.78-7.78 2.81-2.81c.8-.78.8-2.07 0-2.86zM5.41 20L4 18.59l7.72-7.72 1.47 1.35L5.41 20z\"/>\n",
       "  </svg>\n",
       "      </button>\n",
       "      \n",
       "  <style>\n",
       "    .colab-df-container {\n",
       "      display:flex;\n",
       "      flex-wrap:wrap;\n",
       "      gap: 12px;\n",
       "    }\n",
       "\n",
       "    .colab-df-convert {\n",
       "      background-color: #E8F0FE;\n",
       "      border: none;\n",
       "      border-radius: 50%;\n",
       "      cursor: pointer;\n",
       "      display: none;\n",
       "      fill: #1967D2;\n",
       "      height: 32px;\n",
       "      padding: 0 0 0 0;\n",
       "      width: 32px;\n",
       "    }\n",
       "\n",
       "    .colab-df-convert:hover {\n",
       "      background-color: #E2EBFA;\n",
       "      box-shadow: 0px 1px 2px rgba(60, 64, 67, 0.3), 0px 1px 3px 1px rgba(60, 64, 67, 0.15);\n",
       "      fill: #174EA6;\n",
       "    }\n",
       "\n",
       "    [theme=dark] .colab-df-convert {\n",
       "      background-color: #3B4455;\n",
       "      fill: #D2E3FC;\n",
       "    }\n",
       "\n",
       "    [theme=dark] .colab-df-convert:hover {\n",
       "      background-color: #434B5C;\n",
       "      box-shadow: 0px 1px 3px 1px rgba(0, 0, 0, 0.15);\n",
       "      filter: drop-shadow(0px 1px 2px rgba(0, 0, 0, 0.3));\n",
       "      fill: #FFFFFF;\n",
       "    }\n",
       "  </style>\n",
       "\n",
       "      <script>\n",
       "        const buttonEl =\n",
       "          document.querySelector('#df-2151610c-699e-4423-9625-53c51a8b01b0 button.colab-df-convert');\n",
       "        buttonEl.style.display =\n",
       "          google.colab.kernel.accessAllowed ? 'block' : 'none';\n",
       "\n",
       "        async function convertToInteractive(key) {\n",
       "          const element = document.querySelector('#df-2151610c-699e-4423-9625-53c51a8b01b0');\n",
       "          const dataTable =\n",
       "            await google.colab.kernel.invokeFunction('convertToInteractive',\n",
       "                                                     [key], {});\n",
       "          if (!dataTable) return;\n",
       "\n",
       "          const docLinkHtml = 'Like what you see? Visit the ' +\n",
       "            '<a target=\"_blank\" href=https://colab.research.google.com/notebooks/data_table.ipynb>data table notebook</a>'\n",
       "            + ' to learn more about interactive tables.';\n",
       "          element.innerHTML = '';\n",
       "          dataTable['output_type'] = 'display_data';\n",
       "          await google.colab.output.renderOutput(dataTable, element);\n",
       "          const docLink = document.createElement('div');\n",
       "          docLink.innerHTML = docLinkHtml;\n",
       "          element.appendChild(docLink);\n",
       "        }\n",
       "      </script>\n",
       "    </div>\n",
       "  </div>\n",
       "  "
      ],
      "text/plain": [
       "          country iso3c iso2c  year  \\\n",
       "0     Afghanistan   AFG    AF  2009   \n",
       "1     Afghanistan   AFG    AF  2010   \n",
       "2     Afghanistan   AFG    AF  2011   \n",
       "3     Afghanistan   AFG    AF  2012   \n",
       "4     Afghanistan   AFG    AF  2015   \n",
       "...           ...   ...   ...   ...   \n",
       "2468     Zimbabwe   ZWE    ZW  2004   \n",
       "2469     Zimbabwe   ZWE    ZW  2005   \n",
       "2470     Zimbabwe   ZWE    ZW  2006   \n",
       "2471     Zimbabwe   ZWE    ZW  2010   \n",
       "2472     Zimbabwe   ZWE    ZW  2012   \n",
       "\n",
       "      Intentional homicides (per 100,000 people)  \\\n",
       "0                                       3.926774   \n",
       "1                                       3.368110   \n",
       "2                                       4.087337   \n",
       "3                                       6.251328   \n",
       "4                                       9.783922   \n",
       "...                                          ...   \n",
       "2468                                   11.281282   \n",
       "2469                                   11.178553   \n",
       "2470                                    8.819056   \n",
       "2471                                    5.599427   \n",
       "2472                                    7.479900   \n",
       "\n",
       "      Suicide mortality rate (per 100,000 population)  GDP (current US$)  \\\n",
       "0                                                 4.4       1.241616e+10   \n",
       "1                                                 4.3       1.585668e+10   \n",
       "2                                                 4.1       1.780511e+10   \n",
       "3                                                 4.0       1.990732e+10   \n",
       "4                                                 4.0       1.913421e+10   \n",
       "...                                               ...                ...   \n",
       "2468                                             14.2       5.805598e+09   \n",
       "2469                                             14.0       5.755215e+09   \n",
       "2470                                             14.4       5.443896e+09   \n",
       "2471                                             21.5       1.204166e+10   \n",
       "2472                                             19.7       1.711485e+10   \n",
       "\n",
       "      GDP per capita, PPP (current international $)  \\\n",
       "0                                       1519.692923   \n",
       "1                                       1710.575411   \n",
       "2                                       1699.488110   \n",
       "3                                       1914.774228   \n",
       "4                                       2087.305323   \n",
       "...                                             ...   \n",
       "2468                                    1762.520649   \n",
       "2469                                    1705.569979   \n",
       "2470                                    1685.362389   \n",
       "2471                                    1830.827333   \n",
       "2472                                    2375.927006   \n",
       "\n",
       "                                     adminregion          incomeLevel  \n",
       "0                                     South Asia           Low income  \n",
       "1                                     South Asia           Low income  \n",
       "2                                     South Asia           Low income  \n",
       "3                                     South Asia           Low income  \n",
       "4                                     South Asia           Low income  \n",
       "...                                          ...                  ...  \n",
       "2468  Sub-Saharan Africa (excluding high income)  Lower middle income  \n",
       "2469  Sub-Saharan Africa (excluding high income)  Lower middle income  \n",
       "2470  Sub-Saharan Africa (excluding high income)  Lower middle income  \n",
       "2471  Sub-Saharan Africa (excluding high income)  Lower middle income  \n",
       "2472  Sub-Saharan Africa (excluding high income)  Lower middle income  \n",
       "\n",
       "[2473 rows x 10 columns]"
      ]
     },
     "execution_count": 10,
     "metadata": {},
     "output_type": "execute_result"
    }
   ],
   "source": [
    "data_cleaned = dataframe.dropna(subset=[\"Intentional homicides (per 100,000 people)\",\"Suicide mortality rate (per 100,000 population)\",\"GDP per capita, PPP (current international $)\",\"GDP (current US$)\"])\n",
    "data_cleaned.reset_index(drop=True)\n"
   ]
  },
  {
   "cell_type": "markdown",
   "metadata": {
    "id": "6eSkri0sf0-w"
   },
   "source": [
    "Let us remove the data corresponding to World as it is the sum of values of all countries and can hinder our analysis."
   ]
  },
  {
   "cell_type": "code",
   "execution_count": 11,
   "metadata": {
    "executionInfo": {
     "elapsed": 488,
     "status": "ok",
     "timestamp": 1648736076455,
     "user": {
      "displayName": "AJIT SINGH",
      "userId": "13557022148140651253"
     },
     "user_tz": -330
    },
    "id": "mAYxBQmRfDzV"
   },
   "outputs": [],
   "source": [
    "index1 = np.array(data_cleaned[(data_cleaned.country == 'World')].index)\n",
    "index2 = np.array(data_cleaned[(data_cleaned.incomeLevel == 'nan')].index)\n",
    "index3 = np.array(data_cleaned[(data_cleaned.incomeLevel == 'Not classified')].index)\n",
    "index = np.append(np.append(index1, index2), index3)"
   ]
  },
  {
   "cell_type": "code",
   "execution_count": 12,
   "metadata": {
    "executionInfo": {
     "elapsed": 3,
     "status": "ok",
     "timestamp": 1648736078145,
     "user": {
      "displayName": "AJIT SINGH",
      "userId": "13557022148140651253"
     },
     "user_tz": -330
    },
    "id": "oLId_k9-foxM"
   },
   "outputs": [],
   "source": [
    "data_cleaned = data_cleaned.drop(index)"
   ]
  },
  {
   "cell_type": "code",
   "execution_count": 13,
   "metadata": {
    "colab": {
     "base_uri": "https://localhost:8080/"
    },
    "executionInfo": {
     "elapsed": 4,
     "status": "ok",
     "timestamp": 1648736079768,
     "user": {
      "displayName": "AJIT SINGH",
      "userId": "13557022148140651253"
     },
     "user_tz": -330
    },
    "id": "pEMIczCGF07g",
    "outputId": "66cc3031-1169-4564-f0e9-c7d8be53d917"
   },
   "outputs": [
    {
     "name": "stdout",
     "output_type": "stream",
     "text": [
      "(13566, 10)\n",
      "(2458, 10)\n"
     ]
    }
   ],
   "source": [
    "print(dataframe.shape)\n",
    "print(data_cleaned.shape)"
   ]
  },
  {
   "cell_type": "markdown",
   "metadata": {
    "id": "vQH-4t2kYSOj"
   },
   "source": [
    "We can see that from 13566 rows only 2458 are usable. From here on we will work with these 2508 rows"
   ]
  },
  {
   "cell_type": "markdown",
   "metadata": {
    "id": "-VJMlYw4YrJP"
   },
   "source": [
    "Let's take a look at the segregation of income levels."
   ]
  },
  {
   "cell_type": "code",
   "execution_count": 14,
   "metadata": {
    "colab": {
     "base_uri": "https://localhost:8080/"
    },
    "executionInfo": {
     "elapsed": 446,
     "status": "ok",
     "timestamp": 1648736084262,
     "user": {
      "displayName": "AJIT SINGH",
      "userId": "13557022148140651253"
     },
     "user_tz": -330
    },
    "id": "aRoxhDYnF07g",
    "outputId": "ff06b8d2-786d-4492-d66c-bdf1f0176934"
   },
   "outputs": [
    {
     "data": {
      "text/plain": [
       "array(['Low income', 'Aggregates', 'Upper middle income',\n",
       "       'Lower middle income', 'High income', nan], dtype=object)"
      ]
     },
     "execution_count": 14,
     "metadata": {},
     "output_type": "execute_result"
    }
   ],
   "source": [
    "data_cleaned['incomeLevel'].unique()"
   ]
  },
  {
   "cell_type": "code",
   "execution_count": 15,
   "metadata": {
    "colab": {
     "base_uri": "https://localhost:8080/",
     "height": 92
    },
    "executionInfo": {
     "elapsed": 2568,
     "status": "ok",
     "timestamp": 1648736088430,
     "user": {
      "displayName": "AJIT SINGH",
      "userId": "13557022148140651253"
     },
     "user_tz": -330
    },
    "id": "15lXwqchF07i",
    "outputId": "abfd7f1d-c15a-4f9b-c977-188b82d33250"
   },
   "outputs": [
    {
     "name": "stdout",
     "output_type": "stream",
     "text": [
      "[jovian] Detected Colab notebook...\u001b[0m\n",
      "[jovian] Uploading colab notebook to Jovian...\u001b[0m\n",
      "Committed successfully! https://jovian.ai/2019phs1005/analysis-of-homicide-and-sucide-rates-of-countries\n"
     ]
    },
    {
     "data": {
      "application/vnd.google.colaboratory.intrinsic+json": {
       "type": "string"
      },
      "text/plain": [
       "'https://jovian.ai/2019phs1005/analysis-of-homicide-and-sucide-rates-of-countries'"
      ]
     },
     "execution_count": 15,
     "metadata": {},
     "output_type": "execute_result"
    }
   ],
   "source": [
    "jovian.commit()"
   ]
  },
  {
   "cell_type": "markdown",
   "metadata": {
    "id": "zwmtH-zXF07i"
   },
   "source": [
    "## Exploratory Analysis and Visualization\n"
   ]
  },
  {
   "cell_type": "markdown",
   "metadata": {
    "id": "q2WhTY-iF07j"
   },
   "source": [
    "Let's begin by importing`matplotlib.pyplot` and `seaborn`."
   ]
  },
  {
   "cell_type": "code",
   "execution_count": 16,
   "metadata": {
    "executionInfo": {
     "elapsed": 579,
     "status": "ok",
     "timestamp": 1648736095426,
     "user": {
      "displayName": "AJIT SINGH",
      "userId": "13557022148140651253"
     },
     "user_tz": -330
    },
    "id": "iOUGcn5PF07j"
   },
   "outputs": [],
   "source": [
    "import seaborn as sns\n",
    "import matplotlib\n",
    "import matplotlib.pyplot as plt\n",
    "%matplotlib inline\n",
    "\n",
    "sns.set_style('darkgrid')\n",
    "matplotlib.rcParams['font.size'] = 14\n",
    "matplotlib.rcParams['figure.figsize'] = (20, 10)\n",
    "matplotlib.rcParams['figure.facecolor'] = '#00000000'"
   ]
  },
  {
   "cell_type": "markdown",
   "metadata": {
    "id": "97ExNMBQZtdU"
   },
   "source": [
    "let's now take a look at mean sucide mortality rate per 100,00 population of countries over the years 2009 to 2012"
   ]
  },
  {
   "cell_type": "code",
   "execution_count": 17,
   "metadata": {
    "colab": {
     "base_uri": "https://localhost:8080/",
     "height": 481
    },
    "executionInfo": {
     "elapsed": 504,
     "status": "ok",
     "timestamp": 1648736098506,
     "user": {
      "displayName": "AJIT SINGH",
      "userId": "13557022148140651253"
     },
     "user_tz": -330
    },
    "id": "yauFqowzlUqh",
    "outputId": "038f9c3b-a21f-440f-9ea5-6a7e2eb34f43"
   },
   "outputs": [
    {
     "name": "stderr",
     "output_type": "stream",
     "text": [
      "/usr/local/lib/python3.7/dist-packages/ipykernel_launcher.py:1: FutureWarning: Indexing with multiple keys (implicitly converted to a tuple of keys) will be deprecated, use a list instead.\n",
      "  \"\"\"Entry point for launching an IPython kernel.\n"
     ]
    },
    {
     "data": {
      "text/html": [
       "\n",
       "  <div id=\"df-787c62c0-3f9d-43bc-82ea-1b96499324b2\">\n",
       "    <div class=\"colab-df-container\">\n",
       "      <div>\n",
       "<style scoped>\n",
       "    .dataframe tbody tr th:only-of-type {\n",
       "        vertical-align: middle;\n",
       "    }\n",
       "\n",
       "    .dataframe tbody tr th {\n",
       "        vertical-align: top;\n",
       "    }\n",
       "\n",
       "    .dataframe thead th {\n",
       "        text-align: right;\n",
       "    }\n",
       "</style>\n",
       "<table border=\"1\" class=\"dataframe\">\n",
       "  <thead>\n",
       "    <tr style=\"text-align: right;\">\n",
       "      <th></th>\n",
       "      <th>country</th>\n",
       "      <th>iso3c</th>\n",
       "      <th>Suicide mortality rate (per 100,000 population)</th>\n",
       "      <th>GDP per capita, PPP (current international $)</th>\n",
       "    </tr>\n",
       "  </thead>\n",
       "  <tbody>\n",
       "    <tr>\n",
       "      <th>0</th>\n",
       "      <td>Afghanistan</td>\n",
       "      <td>AFG</td>\n",
       "      <td>4.125000</td>\n",
       "      <td>1881.748742</td>\n",
       "    </tr>\n",
       "    <tr>\n",
       "      <th>1</th>\n",
       "      <td>Africa Eastern and Southern</td>\n",
       "      <td>AFE</td>\n",
       "      <td>8.635075</td>\n",
       "      <td>3424.933620</td>\n",
       "    </tr>\n",
       "    <tr>\n",
       "      <th>2</th>\n",
       "      <td>Africa Western and Central</td>\n",
       "      <td>AFW</td>\n",
       "      <td>6.022582</td>\n",
       "      <td>4040.126315</td>\n",
       "    </tr>\n",
       "    <tr>\n",
       "      <th>3</th>\n",
       "      <td>Albania</td>\n",
       "      <td>ALB</td>\n",
       "      <td>5.957895</td>\n",
       "      <td>8536.359749</td>\n",
       "    </tr>\n",
       "    <tr>\n",
       "      <th>4</th>\n",
       "      <td>Algeria</td>\n",
       "      <td>DZA</td>\n",
       "      <td>3.315385</td>\n",
       "      <td>12264.859929</td>\n",
       "    </tr>\n",
       "    <tr>\n",
       "      <th>...</th>\n",
       "      <td>...</td>\n",
       "      <td>...</td>\n",
       "      <td>...</td>\n",
       "      <td>...</td>\n",
       "    </tr>\n",
       "    <tr>\n",
       "      <th>199</th>\n",
       "      <td>Uzbekistan</td>\n",
       "      <td>UZB</td>\n",
       "      <td>9.115385</td>\n",
       "      <td>4497.041320</td>\n",
       "    </tr>\n",
       "    <tr>\n",
       "      <th>200</th>\n",
       "      <td>Vietnam</td>\n",
       "      <td>VNM</td>\n",
       "      <td>6.545455</td>\n",
       "      <td>3248.953299</td>\n",
       "    </tr>\n",
       "    <tr>\n",
       "      <th>201</th>\n",
       "      <td>Yemen, Rep.</td>\n",
       "      <td>YEM</td>\n",
       "      <td>5.841667</td>\n",
       "      <td>3597.690932</td>\n",
       "    </tr>\n",
       "    <tr>\n",
       "      <th>202</th>\n",
       "      <td>Zambia</td>\n",
       "      <td>ZMB</td>\n",
       "      <td>9.933333</td>\n",
       "      <td>3088.156585</td>\n",
       "    </tr>\n",
       "    <tr>\n",
       "      <th>203</th>\n",
       "      <td>Zimbabwe</td>\n",
       "      <td>ZWE</td>\n",
       "      <td>15.400000</td>\n",
       "      <td>1962.824110</td>\n",
       "    </tr>\n",
       "  </tbody>\n",
       "</table>\n",
       "<p>204 rows × 4 columns</p>\n",
       "</div>\n",
       "      <button class=\"colab-df-convert\" onclick=\"convertToInteractive('df-787c62c0-3f9d-43bc-82ea-1b96499324b2')\"\n",
       "              title=\"Convert this dataframe to an interactive table.\"\n",
       "              style=\"display:none;\">\n",
       "        \n",
       "  <svg xmlns=\"http://www.w3.org/2000/svg\" height=\"24px\"viewBox=\"0 0 24 24\"\n",
       "       width=\"24px\">\n",
       "    <path d=\"M0 0h24v24H0V0z\" fill=\"none\"/>\n",
       "    <path d=\"M18.56 5.44l.94 2.06.94-2.06 2.06-.94-2.06-.94-.94-2.06-.94 2.06-2.06.94zm-11 1L8.5 8.5l.94-2.06 2.06-.94-2.06-.94L8.5 2.5l-.94 2.06-2.06.94zm10 10l.94 2.06.94-2.06 2.06-.94-2.06-.94-.94-2.06-.94 2.06-2.06.94z\"/><path d=\"M17.41 7.96l-1.37-1.37c-.4-.4-.92-.59-1.43-.59-.52 0-1.04.2-1.43.59L10.3 9.45l-7.72 7.72c-.78.78-.78 2.05 0 2.83L4 21.41c.39.39.9.59 1.41.59.51 0 1.02-.2 1.41-.59l7.78-7.78 2.81-2.81c.8-.78.8-2.07 0-2.86zM5.41 20L4 18.59l7.72-7.72 1.47 1.35L5.41 20z\"/>\n",
       "  </svg>\n",
       "      </button>\n",
       "      \n",
       "  <style>\n",
       "    .colab-df-container {\n",
       "      display:flex;\n",
       "      flex-wrap:wrap;\n",
       "      gap: 12px;\n",
       "    }\n",
       "\n",
       "    .colab-df-convert {\n",
       "      background-color: #E8F0FE;\n",
       "      border: none;\n",
       "      border-radius: 50%;\n",
       "      cursor: pointer;\n",
       "      display: none;\n",
       "      fill: #1967D2;\n",
       "      height: 32px;\n",
       "      padding: 0 0 0 0;\n",
       "      width: 32px;\n",
       "    }\n",
       "\n",
       "    .colab-df-convert:hover {\n",
       "      background-color: #E2EBFA;\n",
       "      box-shadow: 0px 1px 2px rgba(60, 64, 67, 0.3), 0px 1px 3px 1px rgba(60, 64, 67, 0.15);\n",
       "      fill: #174EA6;\n",
       "    }\n",
       "\n",
       "    [theme=dark] .colab-df-convert {\n",
       "      background-color: #3B4455;\n",
       "      fill: #D2E3FC;\n",
       "    }\n",
       "\n",
       "    [theme=dark] .colab-df-convert:hover {\n",
       "      background-color: #434B5C;\n",
       "      box-shadow: 0px 1px 3px 1px rgba(0, 0, 0, 0.15);\n",
       "      filter: drop-shadow(0px 1px 2px rgba(0, 0, 0, 0.3));\n",
       "      fill: #FFFFFF;\n",
       "    }\n",
       "  </style>\n",
       "\n",
       "      <script>\n",
       "        const buttonEl =\n",
       "          document.querySelector('#df-787c62c0-3f9d-43bc-82ea-1b96499324b2 button.colab-df-convert');\n",
       "        buttonEl.style.display =\n",
       "          google.colab.kernel.accessAllowed ? 'block' : 'none';\n",
       "\n",
       "        async function convertToInteractive(key) {\n",
       "          const element = document.querySelector('#df-787c62c0-3f9d-43bc-82ea-1b96499324b2');\n",
       "          const dataTable =\n",
       "            await google.colab.kernel.invokeFunction('convertToInteractive',\n",
       "                                                     [key], {});\n",
       "          if (!dataTable) return;\n",
       "\n",
       "          const docLinkHtml = 'Like what you see? Visit the ' +\n",
       "            '<a target=\"_blank\" href=https://colab.research.google.com/notebooks/data_table.ipynb>data table notebook</a>'\n",
       "            + ' to learn more about interactive tables.';\n",
       "          element.innerHTML = '';\n",
       "          dataTable['output_type'] = 'display_data';\n",
       "          await google.colab.output.renderOutput(dataTable, element);\n",
       "          const docLink = document.createElement('div');\n",
       "          docLink.innerHTML = docLinkHtml;\n",
       "          element.appendChild(docLink);\n",
       "        }\n",
       "      </script>\n",
       "    </div>\n",
       "  </div>\n",
       "  "
      ],
      "text/plain": [
       "                         country iso3c  \\\n",
       "0                    Afghanistan   AFG   \n",
       "1    Africa Eastern and Southern   AFE   \n",
       "2     Africa Western and Central   AFW   \n",
       "3                        Albania   ALB   \n",
       "4                        Algeria   DZA   \n",
       "..                           ...   ...   \n",
       "199                   Uzbekistan   UZB   \n",
       "200                      Vietnam   VNM   \n",
       "201                  Yemen, Rep.   YEM   \n",
       "202                       Zambia   ZMB   \n",
       "203                     Zimbabwe   ZWE   \n",
       "\n",
       "     Suicide mortality rate (per 100,000 population)  \\\n",
       "0                                           4.125000   \n",
       "1                                           8.635075   \n",
       "2                                           6.022582   \n",
       "3                                           5.957895   \n",
       "4                                           3.315385   \n",
       "..                                               ...   \n",
       "199                                         9.115385   \n",
       "200                                         6.545455   \n",
       "201                                         5.841667   \n",
       "202                                         9.933333   \n",
       "203                                        15.400000   \n",
       "\n",
       "     GDP per capita, PPP (current international $)  \n",
       "0                                      1881.748742  \n",
       "1                                      3424.933620  \n",
       "2                                      4040.126315  \n",
       "3                                      8536.359749  \n",
       "4                                     12264.859929  \n",
       "..                                             ...  \n",
       "199                                    4497.041320  \n",
       "200                                    3248.953299  \n",
       "201                                    3597.690932  \n",
       "202                                    3088.156585  \n",
       "203                                    1962.824110  \n",
       "\n",
       "[204 rows x 4 columns]"
      ]
     },
     "execution_count": 17,
     "metadata": {},
     "output_type": "execute_result"
    }
   ],
   "source": [
    "mean_suicide_mortality = pd.DataFrame(data_cleaned.groupby(['country', 'iso3c'])['Suicide mortality rate (per 100,000 population)','GDP per capita, PPP (current international $)'].mean().reset_index())\n",
    "mean_suicide_mortality"
   ]
  },
  {
   "cell_type": "code",
   "execution_count": 18,
   "metadata": {
    "colab": {
     "base_uri": "https://localhost:8080/",
     "height": 632
    },
    "executionInfo": {
     "elapsed": 1294,
     "status": "ok",
     "timestamp": 1648736102967,
     "user": {
      "displayName": "AJIT SINGH",
      "userId": "13557022148140651253"
     },
     "user_tz": -330
    },
    "id": "9FaFQLYuF07l",
    "outputId": "13279f39-1f52-4f45-bd62-9ae4a6251134"
   },
   "outputs": [
    {
     "data": {
      "text/plain": [
       "Text(0, 0.5, 'Suicide mortality rate')"
      ]
     },
     "execution_count": 18,
     "metadata": {},
     "output_type": "execute_result"
    },
    {
     "data": {
      "image/png": "[encoded data removed]",
      "text/plain": [
       "<Figure size 1440x720 with 1 Axes>"
      ]
     },
     "metadata": {
      "needs_background": "light"
     },
     "output_type": "display_data"
    }
   ],
   "source": [
    "plt.scatter(mean_suicide_mortality[\"GDP per capita, PPP (current international $)\"], mean_suicide_mortality['Suicide mortality rate (per 100,000 population)'])\n",
    "plt.xlabel(\"GDP per capita\")\n",
    "plt.ylabel(\"Suicide mortality rate\")"
   ]
  },
  {
   "cell_type": "markdown",
   "metadata": {
    "id": "H-m72SPH7BPM"
   },
   "source": [
    "It seems countries with higher GDP have lower sucidide mortality rates."
   ]
  },
  {
   "cell_type": "markdown",
   "metadata": {
    "id": "XJtWMbhYQ-4e"
   },
   "source": [
    "Let's take a look at top 10 countries with highest suicide mortality rates."
   ]
  },
  {
   "cell_type": "code",
   "execution_count": 19,
   "metadata": {
    "colab": {
     "base_uri": "https://localhost:8080/",
     "height": 363
    },
    "executionInfo": {
     "elapsed": 542,
     "status": "ok",
     "timestamp": 1648736107467,
     "user": {
      "displayName": "AJIT SINGH",
      "userId": "13557022148140651253"
     },
     "user_tz": -330
    },
    "id": "NPNJlN7HPThh",
    "outputId": "ca09fc2a-8a86-4e72-e80a-bf539b4fee2d"
   },
   "outputs": [
    {
     "data": {
      "text/html": [
       "\n",
       "  <div id=\"df-b9f91acf-a6b3-478c-8222-37c492444ee3\">\n",
       "    <div class=\"colab-df-container\">\n",
       "      <div>\n",
       "<style scoped>\n",
       "    .dataframe tbody tr th:only-of-type {\n",
       "        vertical-align: middle;\n",
       "    }\n",
       "\n",
       "    .dataframe tbody tr th {\n",
       "        vertical-align: top;\n",
       "    }\n",
       "\n",
       "    .dataframe thead th {\n",
       "        text-align: right;\n",
       "    }\n",
       "</style>\n",
       "<table border=\"1\" class=\"dataframe\">\n",
       "  <thead>\n",
       "    <tr style=\"text-align: right;\">\n",
       "      <th></th>\n",
       "      <th>index</th>\n",
       "      <th>country</th>\n",
       "      <th>iso3c</th>\n",
       "      <th>Suicide mortality rate (per 100,000 population)</th>\n",
       "      <th>GDP per capita, PPP (current international $)</th>\n",
       "    </tr>\n",
       "  </thead>\n",
       "  <tbody>\n",
       "    <tr>\n",
       "      <th>0</th>\n",
       "      <td>106</td>\n",
       "      <td>Lesotho</td>\n",
       "      <td>LSO</td>\n",
       "      <td>70.012500</td>\n",
       "      <td>2294.755285</td>\n",
       "    </tr>\n",
       "    <tr>\n",
       "      <th>1</th>\n",
       "      <td>54</td>\n",
       "      <td>Eswatini</td>\n",
       "      <td>SWZ</td>\n",
       "      <td>42.338889</td>\n",
       "      <td>7121.947736</td>\n",
       "    </tr>\n",
       "    <tr>\n",
       "      <th>2</th>\n",
       "      <td>155</td>\n",
       "      <td>Russian Federation</td>\n",
       "      <td>RUS</td>\n",
       "      <td>40.489474</td>\n",
       "      <td>18264.779220</td>\n",
       "    </tr>\n",
       "    <tr>\n",
       "      <th>3</th>\n",
       "      <td>108</td>\n",
       "      <td>Lithuania</td>\n",
       "      <td>LTU</td>\n",
       "      <td>38.605263</td>\n",
       "      <td>20782.970115</td>\n",
       "    </tr>\n",
       "    <tr>\n",
       "      <th>4</th>\n",
       "      <td>17</td>\n",
       "      <td>Belarus</td>\n",
       "      <td>BLR</td>\n",
       "      <td>34.715789</td>\n",
       "      <td>13537.709110</td>\n",
       "    </tr>\n",
       "    <tr>\n",
       "      <th>5</th>\n",
       "      <td>72</td>\n",
       "      <td>Guyana</td>\n",
       "      <td>GUY</td>\n",
       "      <td>34.273684</td>\n",
       "      <td>9010.426145</td>\n",
       "    </tr>\n",
       "    <tr>\n",
       "      <th>6</th>\n",
       "      <td>94</td>\n",
       "      <td>Kazakhstan</td>\n",
       "      <td>KAZ</td>\n",
       "      <td>31.457143</td>\n",
       "      <td>17541.153634</td>\n",
       "    </tr>\n",
       "    <tr>\n",
       "      <th>7</th>\n",
       "      <td>96</td>\n",
       "      <td>Kiribati</td>\n",
       "      <td>KIR</td>\n",
       "      <td>30.885714</td>\n",
       "      <td>1708.023177</td>\n",
       "    </tr>\n",
       "    <tr>\n",
       "      <th>8</th>\n",
       "      <td>193</td>\n",
       "      <td>Ukraine</td>\n",
       "      <td>UKR</td>\n",
       "      <td>30.428571</td>\n",
       "      <td>7816.492753</td>\n",
       "    </tr>\n",
       "    <tr>\n",
       "      <th>9</th>\n",
       "      <td>24</td>\n",
       "      <td>Botswana</td>\n",
       "      <td>BWA</td>\n",
       "      <td>30.340000</td>\n",
       "      <td>10851.015852</td>\n",
       "    </tr>\n",
       "  </tbody>\n",
       "</table>\n",
       "</div>\n",
       "      <button class=\"colab-df-convert\" onclick=\"convertToInteractive('df-b9f91acf-a6b3-478c-8222-37c492444ee3')\"\n",
       "              title=\"Convert this dataframe to an interactive table.\"\n",
       "              style=\"display:none;\">\n",
       "        \n",
       "  <svg xmlns=\"http://www.w3.org/2000/svg\" height=\"24px\"viewBox=\"0 0 24 24\"\n",
       "       width=\"24px\">\n",
       "    <path d=\"M0 0h24v24H0V0z\" fill=\"none\"/>\n",
       "    <path d=\"M18.56 5.44l.94 2.06.94-2.06 2.06-.94-2.06-.94-.94-2.06-.94 2.06-2.06.94zm-11 1L8.5 8.5l.94-2.06 2.06-.94-2.06-.94L8.5 2.5l-.94 2.06-2.06.94zm10 10l.94 2.06.94-2.06 2.06-.94-2.06-.94-.94-2.06-.94 2.06-2.06.94z\"/><path d=\"M17.41 7.96l-1.37-1.37c-.4-.4-.92-.59-1.43-.59-.52 0-1.04.2-1.43.59L10.3 9.45l-7.72 7.72c-.78.78-.78 2.05 0 2.83L4 21.41c.39.39.9.59 1.41.59.51 0 1.02-.2 1.41-.59l7.78-7.78 2.81-2.81c.8-.78.8-2.07 0-2.86zM5.41 20L4 18.59l7.72-7.72 1.47 1.35L5.41 20z\"/>\n",
       "  </svg>\n",
       "      </button>\n",
       "      \n",
       "  <style>\n",
       "    .colab-df-container {\n",
       "      display:flex;\n",
       "      flex-wrap:wrap;\n",
       "      gap: 12px;\n",
       "    }\n",
       "\n",
       "    .colab-df-convert {\n",
       "      background-color: #E8F0FE;\n",
       "      border: none;\n",
       "      border-radius: 50%;\n",
       "      cursor: pointer;\n",
       "      display: none;\n",
       "      fill: #1967D2;\n",
       "      height: 32px;\n",
       "      padding: 0 0 0 0;\n",
       "      width: 32px;\n",
       "    }\n",
       "\n",
       "    .colab-df-convert:hover {\n",
       "      background-color: #E2EBFA;\n",
       "      box-shadow: 0px 1px 2px rgba(60, 64, 67, 0.3), 0px 1px 3px 1px rgba(60, 64, 67, 0.15);\n",
       "      fill: #174EA6;\n",
       "    }\n",
       "\n",
       "    [theme=dark] .colab-df-convert {\n",
       "      background-color: #3B4455;\n",
       "      fill: #D2E3FC;\n",
       "    }\n",
       "\n",
       "    [theme=dark] .colab-df-convert:hover {\n",
       "      background-color: #434B5C;\n",
       "      box-shadow: 0px 1px 3px 1px rgba(0, 0, 0, 0.15);\n",
       "      filter: drop-shadow(0px 1px 2px rgba(0, 0, 0, 0.3));\n",
       "      fill: #FFFFFF;\n",
       "    }\n",
       "  </style>\n",
       "\n",
       "      <script>\n",
       "        const buttonEl =\n",
       "          document.querySelector('#df-b9f91acf-a6b3-478c-8222-37c492444ee3 button.colab-df-convert');\n",
       "        buttonEl.style.display =\n",
       "          google.colab.kernel.accessAllowed ? 'block' : 'none';\n",
       "\n",
       "        async function convertToInteractive(key) {\n",
       "          const element = document.querySelector('#df-b9f91acf-a6b3-478c-8222-37c492444ee3');\n",
       "          const dataTable =\n",
       "            await google.colab.kernel.invokeFunction('convertToInteractive',\n",
       "                                                     [key], {});\n",
       "          if (!dataTable) return;\n",
       "\n",
       "          const docLinkHtml = 'Like what you see? Visit the ' +\n",
       "            '<a target=\"_blank\" href=https://colab.research.google.com/notebooks/data_table.ipynb>data table notebook</a>'\n",
       "            + ' to learn more about interactive tables.';\n",
       "          element.innerHTML = '';\n",
       "          dataTable['output_type'] = 'display_data';\n",
       "          await google.colab.output.renderOutput(dataTable, element);\n",
       "          const docLink = document.createElement('div');\n",
       "          docLink.innerHTML = docLinkHtml;\n",
       "          element.appendChild(docLink);\n",
       "        }\n",
       "      </script>\n",
       "    </div>\n",
       "  </div>\n",
       "  "
      ],
      "text/plain": [
       "   index             country iso3c  \\\n",
       "0    106             Lesotho   LSO   \n",
       "1     54            Eswatini   SWZ   \n",
       "2    155  Russian Federation   RUS   \n",
       "3    108           Lithuania   LTU   \n",
       "4     17             Belarus   BLR   \n",
       "5     72              Guyana   GUY   \n",
       "6     94          Kazakhstan   KAZ   \n",
       "7     96            Kiribati   KIR   \n",
       "8    193             Ukraine   UKR   \n",
       "9     24            Botswana   BWA   \n",
       "\n",
       "   Suicide mortality rate (per 100,000 population)  \\\n",
       "0                                        70.012500   \n",
       "1                                        42.338889   \n",
       "2                                        40.489474   \n",
       "3                                        38.605263   \n",
       "4                                        34.715789   \n",
       "5                                        34.273684   \n",
       "6                                        31.457143   \n",
       "7                                        30.885714   \n",
       "8                                        30.428571   \n",
       "9                                        30.340000   \n",
       "\n",
       "   GDP per capita, PPP (current international $)  \n",
       "0                                    2294.755285  \n",
       "1                                    7121.947736  \n",
       "2                                   18264.779220  \n",
       "3                                   20782.970115  \n",
       "4                                   13537.709110  \n",
       "5                                    9010.426145  \n",
       "6                                   17541.153634  \n",
       "7                                    1708.023177  \n",
       "8                                    7816.492753  \n",
       "9                                   10851.015852  "
      ]
     },
     "execution_count": 19,
     "metadata": {},
     "output_type": "execute_result"
    }
   ],
   "source": [
    "top_10_suicide = mean_suicide_mortality.sort_values(by=['Suicide mortality rate (per 100,000 population)'],ascending=False)[:10]\n",
    "top_10_suicide.reset_index()"
   ]
  },
  {
   "cell_type": "code",
   "execution_count": 20,
   "metadata": {
    "colab": {
     "base_uri": "https://localhost:8080/",
     "height": 722
    },
    "executionInfo": {
     "elapsed": 1482,
     "status": "ok",
     "timestamp": 1648736111890,
     "user": {
      "displayName": "AJIT SINGH",
      "userId": "13557022148140651253"
     },
     "user_tz": -330
    },
    "id": "8is1rDVlROiA",
    "outputId": "643c8fc9-c124-4ee1-f400-4d79944e39fd"
   },
   "outputs": [
    {
     "data": {
      "text/plain": [
       "([0, 1, 2, 3, 4, 5, 6, 7, 8, 9], <a list of 10 Text major ticklabel objects>)"
      ]
     },
     "execution_count": 20,
     "metadata": {},
     "output_type": "execute_result"
    },
    {
     "data": {
      "image/png": "[encoded data removed]",
      "text/plain": [
       "<Figure size 1440x720 with 1 Axes>"
      ]
     },
     "metadata": {
      "needs_background": "light"
     },
     "output_type": "display_data"
    }
   ],
   "source": [
    "plt.bar(top_10_suicide['country'],top_10_suicide[\"Suicide mortality rate (per 100,000 population)\"])\n",
    "plt.xticks(rotation=60)"
   ]
  },
  {
   "cell_type": "markdown",
   "metadata": {
    "id": "4vyHBvDulqmp"
   },
   "source": [
    "let's now take a look at mean intentional homicide rate per 100,00 population of countries over the years 2009 to 2012"
   ]
  },
  {
   "cell_type": "code",
   "execution_count": 21,
   "metadata": {
    "colab": {
     "base_uri": "https://localhost:8080/"
    },
    "executionInfo": {
     "elapsed": 376,
     "status": "ok",
     "timestamp": 1648736115354,
     "user": {
      "displayName": "AJIT SINGH",
      "userId": "13557022148140651253"
     },
     "user_tz": -330
    },
    "id": "HIikwDiQF07l",
    "outputId": "d91a9207-b474-4d4d-a52d-17a6bef99558"
   },
   "outputs": [
    {
     "name": "stderr",
     "output_type": "stream",
     "text": [
      "/usr/local/lib/python3.7/dist-packages/ipykernel_launcher.py:1: FutureWarning: Indexing with multiple keys (implicitly converted to a tuple of keys) will be deprecated, use a list instead.\n",
      "  \"\"\"Entry point for launching an IPython kernel.\n"
     ]
    }
   ],
   "source": [
    "mean_homicide_mortality = pd.DataFrame(data_cleaned.groupby(['country'])['Intentional homicides (per 100,000 people)','GDP per capita, PPP (current international $)'].mean().reset_index())\n"
   ]
  },
  {
   "cell_type": "code",
   "execution_count": 22,
   "metadata": {
    "colab": {
     "base_uri": "https://localhost:8080/",
     "height": 424
    },
    "executionInfo": {
     "elapsed": 10,
     "status": "ok",
     "timestamp": 1648736117165,
     "user": {
      "displayName": "AJIT SINGH",
      "userId": "13557022148140651253"
     },
     "user_tz": -330
    },
    "id": "o3eQORLPzDqi",
    "outputId": "edce22da-2ea8-4598-8004-ada524727857"
   },
   "outputs": [
    {
     "data": {
      "text/html": [
       "\n",
       "  <div id=\"df-6afe7a60-4cde-481b-9bf0-e60500dec8fd\">\n",
       "    <div class=\"colab-df-container\">\n",
       "      <div>\n",
       "<style scoped>\n",
       "    .dataframe tbody tr th:only-of-type {\n",
       "        vertical-align: middle;\n",
       "    }\n",
       "\n",
       "    .dataframe tbody tr th {\n",
       "        vertical-align: top;\n",
       "    }\n",
       "\n",
       "    .dataframe thead th {\n",
       "        text-align: right;\n",
       "    }\n",
       "</style>\n",
       "<table border=\"1\" class=\"dataframe\">\n",
       "  <thead>\n",
       "    <tr style=\"text-align: right;\">\n",
       "      <th></th>\n",
       "      <th>country</th>\n",
       "      <th>Intentional homicides (per 100,000 people)</th>\n",
       "      <th>GDP per capita, PPP (current international $)</th>\n",
       "    </tr>\n",
       "  </thead>\n",
       "  <tbody>\n",
       "    <tr>\n",
       "      <th>0</th>\n",
       "      <td>Afghanistan</td>\n",
       "      <td>5.912825</td>\n",
       "      <td>1881.748742</td>\n",
       "    </tr>\n",
       "    <tr>\n",
       "      <th>1</th>\n",
       "      <td>Africa Eastern and Southern</td>\n",
       "      <td>11.966667</td>\n",
       "      <td>3424.933620</td>\n",
       "    </tr>\n",
       "    <tr>\n",
       "      <th>2</th>\n",
       "      <td>Africa Western and Central</td>\n",
       "      <td>9.833333</td>\n",
       "      <td>4040.126315</td>\n",
       "    </tr>\n",
       "    <tr>\n",
       "      <th>3</th>\n",
       "      <td>Albania</td>\n",
       "      <td>4.067445</td>\n",
       "      <td>8536.359749</td>\n",
       "    </tr>\n",
       "    <tr>\n",
       "      <th>4</th>\n",
       "      <td>Algeria</td>\n",
       "      <td>1.109717</td>\n",
       "      <td>12264.859929</td>\n",
       "    </tr>\n",
       "    <tr>\n",
       "      <th>...</th>\n",
       "      <td>...</td>\n",
       "      <td>...</td>\n",
       "      <td>...</td>\n",
       "    </tr>\n",
       "    <tr>\n",
       "      <th>201</th>\n",
       "      <td>Uzbekistan</td>\n",
       "      <td>2.963718</td>\n",
       "      <td>4497.041320</td>\n",
       "    </tr>\n",
       "    <tr>\n",
       "      <th>202</th>\n",
       "      <td>Vietnam</td>\n",
       "      <td>1.337206</td>\n",
       "      <td>3248.953299</td>\n",
       "    </tr>\n",
       "    <tr>\n",
       "      <th>203</th>\n",
       "      <td>Yemen, Rep.</td>\n",
       "      <td>4.693661</td>\n",
       "      <td>3597.690932</td>\n",
       "    </tr>\n",
       "    <tr>\n",
       "      <th>204</th>\n",
       "      <td>Zambia</td>\n",
       "      <td>5.998878</td>\n",
       "      <td>3088.156585</td>\n",
       "    </tr>\n",
       "    <tr>\n",
       "      <th>205</th>\n",
       "      <td>Zimbabwe</td>\n",
       "      <td>10.263508</td>\n",
       "      <td>1962.824110</td>\n",
       "    </tr>\n",
       "  </tbody>\n",
       "</table>\n",
       "<p>206 rows × 3 columns</p>\n",
       "</div>\n",
       "      <button class=\"colab-df-convert\" onclick=\"convertToInteractive('df-6afe7a60-4cde-481b-9bf0-e60500dec8fd')\"\n",
       "              title=\"Convert this dataframe to an interactive table.\"\n",
       "              style=\"display:none;\">\n",
       "        \n",
       "  <svg xmlns=\"http://www.w3.org/2000/svg\" height=\"24px\"viewBox=\"0 0 24 24\"\n",
       "       width=\"24px\">\n",
       "    <path d=\"M0 0h24v24H0V0z\" fill=\"none\"/>\n",
       "    <path d=\"M18.56 5.44l.94 2.06.94-2.06 2.06-.94-2.06-.94-.94-2.06-.94 2.06-2.06.94zm-11 1L8.5 8.5l.94-2.06 2.06-.94-2.06-.94L8.5 2.5l-.94 2.06-2.06.94zm10 10l.94 2.06.94-2.06 2.06-.94-2.06-.94-.94-2.06-.94 2.06-2.06.94z\"/><path d=\"M17.41 7.96l-1.37-1.37c-.4-.4-.92-.59-1.43-.59-.52 0-1.04.2-1.43.59L10.3 9.45l-7.72 7.72c-.78.78-.78 2.05 0 2.83L4 21.41c.39.39.9.59 1.41.59.51 0 1.02-.2 1.41-.59l7.78-7.78 2.81-2.81c.8-.78.8-2.07 0-2.86zM5.41 20L4 18.59l7.72-7.72 1.47 1.35L5.41 20z\"/>\n",
       "  </svg>\n",
       "      </button>\n",
       "      \n",
       "  <style>\n",
       "    .colab-df-container {\n",
       "      display:flex;\n",
       "      flex-wrap:wrap;\n",
       "      gap: 12px;\n",
       "    }\n",
       "\n",
       "    .colab-df-convert {\n",
       "      background-color: #E8F0FE;\n",
       "      border: none;\n",
       "      border-radius: 50%;\n",
       "      cursor: pointer;\n",
       "      display: none;\n",
       "      fill: #1967D2;\n",
       "      height: 32px;\n",
       "      padding: 0 0 0 0;\n",
       "      width: 32px;\n",
       "    }\n",
       "\n",
       "    .colab-df-convert:hover {\n",
       "      background-color: #E2EBFA;\n",
       "      box-shadow: 0px 1px 2px rgba(60, 64, 67, 0.3), 0px 1px 3px 1px rgba(60, 64, 67, 0.15);\n",
       "      fill: #174EA6;\n",
       "    }\n",
       "\n",
       "    [theme=dark] .colab-df-convert {\n",
       "      background-color: #3B4455;\n",
       "      fill: #D2E3FC;\n",
       "    }\n",
       "\n",
       "    [theme=dark] .colab-df-convert:hover {\n",
       "      background-color: #434B5C;\n",
       "      box-shadow: 0px 1px 3px 1px rgba(0, 0, 0, 0.15);\n",
       "      filter: drop-shadow(0px 1px 2px rgba(0, 0, 0, 0.3));\n",
       "      fill: #FFFFFF;\n",
       "    }\n",
       "  </style>\n",
       "\n",
       "      <script>\n",
       "        const buttonEl =\n",
       "          document.querySelector('#df-6afe7a60-4cde-481b-9bf0-e60500dec8fd button.colab-df-convert');\n",
       "        buttonEl.style.display =\n",
       "          google.colab.kernel.accessAllowed ? 'block' : 'none';\n",
       "\n",
       "        async function convertToInteractive(key) {\n",
       "          const element = document.querySelector('#df-6afe7a60-4cde-481b-9bf0-e60500dec8fd');\n",
       "          const dataTable =\n",
       "            await google.colab.kernel.invokeFunction('convertToInteractive',\n",
       "                                                     [key], {});\n",
       "          if (!dataTable) return;\n",
       "\n",
       "          const docLinkHtml = 'Like what you see? Visit the ' +\n",
       "            '<a target=\"_blank\" href=https://colab.research.google.com/notebooks/data_table.ipynb>data table notebook</a>'\n",
       "            + ' to learn more about interactive tables.';\n",
       "          element.innerHTML = '';\n",
       "          dataTable['output_type'] = 'display_data';\n",
       "          await google.colab.output.renderOutput(dataTable, element);\n",
       "          const docLink = document.createElement('div');\n",
       "          docLink.innerHTML = docLinkHtml;\n",
       "          element.appendChild(docLink);\n",
       "        }\n",
       "      </script>\n",
       "    </div>\n",
       "  </div>\n",
       "  "
      ],
      "text/plain": [
       "                         country  Intentional homicides (per 100,000 people)  \\\n",
       "0                    Afghanistan                                    5.912825   \n",
       "1    Africa Eastern and Southern                                   11.966667   \n",
       "2     Africa Western and Central                                    9.833333   \n",
       "3                        Albania                                    4.067445   \n",
       "4                        Algeria                                    1.109717   \n",
       "..                           ...                                         ...   \n",
       "201                   Uzbekistan                                    2.963718   \n",
       "202                      Vietnam                                    1.337206   \n",
       "203                  Yemen, Rep.                                    4.693661   \n",
       "204                       Zambia                                    5.998878   \n",
       "205                     Zimbabwe                                   10.263508   \n",
       "\n",
       "     GDP per capita, PPP (current international $)  \n",
       "0                                      1881.748742  \n",
       "1                                      3424.933620  \n",
       "2                                      4040.126315  \n",
       "3                                      8536.359749  \n",
       "4                                     12264.859929  \n",
       "..                                             ...  \n",
       "201                                    4497.041320  \n",
       "202                                    3248.953299  \n",
       "203                                    3597.690932  \n",
       "204                                    3088.156585  \n",
       "205                                    1962.824110  \n",
       "\n",
       "[206 rows x 3 columns]"
      ]
     },
     "execution_count": 22,
     "metadata": {},
     "output_type": "execute_result"
    }
   ],
   "source": [
    "mean_homicide_mortality"
   ]
  },
  {
   "cell_type": "code",
   "execution_count": 23,
   "metadata": {
    "colab": {
     "base_uri": "https://localhost:8080/",
     "height": 632
    },
    "executionInfo": {
     "elapsed": 1019,
     "status": "ok",
     "timestamp": 1648736120387,
     "user": {
      "displayName": "AJIT SINGH",
      "userId": "13557022148140651253"
     },
     "user_tz": -330
    },
    "id": "Qo36tpG2tDE8",
    "outputId": "021c3aff-1c2e-49c2-c262-d8b329927ec9"
   },
   "outputs": [
    {
     "data": {
      "text/plain": [
       "Text(0, 0.5, ' mortality rate')"
      ]
     },
     "execution_count": 23,
     "metadata": {},
     "output_type": "execute_result"
    },
    {
     "data": {
      "image/png": "[encoded data removed]",
      "text/plain": [
       "<Figure size 1440x720 with 1 Axes>"
      ]
     },
     "metadata": {
      "needs_background": "light"
     },
     "output_type": "display_data"
    }
   ],
   "source": [
    "plt.scatter(mean_homicide_mortality[\"GDP per capita, PPP (current international $)\"], mean_homicide_mortality['Intentional homicides (per 100,000 people)'], color='maroon')\n",
    "plt.xlabel(\"GDP per capita\")\n",
    "plt.ylabel(\" mortality rate\")"
   ]
  },
  {
   "cell_type": "markdown",
   "metadata": {
    "id": "17XhAbgv7NL_"
   },
   "source": [
    "It seems countries with higher GDP have lower homicide mortality rates."
   ]
  },
  {
   "cell_type": "markdown",
   "metadata": {
    "id": "wlS1AI5IVmrX"
   },
   "source": [
    "Let's take a look at top 10 countries with highest  intentional homicide mortality rates."
   ]
  },
  {
   "cell_type": "code",
   "execution_count": 24,
   "metadata": {
    "colab": {
     "base_uri": "https://localhost:8080/",
     "height": 363
    },
    "executionInfo": {
     "elapsed": 423,
     "status": "ok",
     "timestamp": 1648736124157,
     "user": {
      "displayName": "AJIT SINGH",
      "userId": "13557022148140651253"
     },
     "user_tz": -330
    },
    "id": "PSUecQhGVwmV",
    "outputId": "dfe0ae1b-8eeb-4037-a1b4-a32d69c46fa5"
   },
   "outputs": [
    {
     "data": {
      "text/html": [
       "\n",
       "  <div id=\"df-4713e189-3aca-4a22-b8e7-e6322264684d\">\n",
       "    <div class=\"colab-df-container\">\n",
       "      <div>\n",
       "<style scoped>\n",
       "    .dataframe tbody tr th:only-of-type {\n",
       "        vertical-align: middle;\n",
       "    }\n",
       "\n",
       "    .dataframe tbody tr th {\n",
       "        vertical-align: top;\n",
       "    }\n",
       "\n",
       "    .dataframe thead th {\n",
       "        text-align: right;\n",
       "    }\n",
       "</style>\n",
       "<table border=\"1\" class=\"dataframe\">\n",
       "  <thead>\n",
       "    <tr style=\"text-align: right;\">\n",
       "      <th></th>\n",
       "      <th>index</th>\n",
       "      <th>country</th>\n",
       "      <th>Intentional homicides (per 100,000 people)</th>\n",
       "      <th>GDP per capita, PPP (current international $)</th>\n",
       "    </tr>\n",
       "  </thead>\n",
       "  <tbody>\n",
       "    <tr>\n",
       "      <th>0</th>\n",
       "      <td>52</td>\n",
       "      <td>El Salvador</td>\n",
       "      <td>62.048729</td>\n",
       "      <td>6233.080958</td>\n",
       "    </tr>\n",
       "    <tr>\n",
       "      <th>1</th>\n",
       "      <td>76</td>\n",
       "      <td>Honduras</td>\n",
       "      <td>56.976382</td>\n",
       "      <td>3857.460931</td>\n",
       "    </tr>\n",
       "    <tr>\n",
       "      <th>2</th>\n",
       "      <td>91</td>\n",
       "      <td>Jamaica</td>\n",
       "      <td>46.629342</td>\n",
       "      <td>8042.413785</td>\n",
       "    </tr>\n",
       "    <tr>\n",
       "      <th>3</th>\n",
       "      <td>39</td>\n",
       "      <td>Colombia</td>\n",
       "      <td>40.743651</td>\n",
       "      <td>10523.218579</td>\n",
       "    </tr>\n",
       "    <tr>\n",
       "      <th>4</th>\n",
       "      <td>107</td>\n",
       "      <td>Lesotho</td>\n",
       "      <td>37.606002</td>\n",
       "      <td>2294.755285</td>\n",
       "    </tr>\n",
       "    <tr>\n",
       "      <th>5</th>\n",
       "      <td>170</td>\n",
       "      <td>South Africa</td>\n",
       "      <td>36.761111</td>\n",
       "      <td>11899.939629</td>\n",
       "    </tr>\n",
       "    <tr>\n",
       "      <th>6</th>\n",
       "      <td>136</td>\n",
       "      <td>Nigeria</td>\n",
       "      <td>34.524046</td>\n",
       "      <td>5234.679127</td>\n",
       "    </tr>\n",
       "    <tr>\n",
       "      <th>7</th>\n",
       "      <td>70</td>\n",
       "      <td>Guatemala</td>\n",
       "      <td>34.255667</td>\n",
       "      <td>6587.522994</td>\n",
       "    </tr>\n",
       "    <tr>\n",
       "      <th>8</th>\n",
       "      <td>19</td>\n",
       "      <td>Belize</td>\n",
       "      <td>32.074210</td>\n",
       "      <td>6985.258576</td>\n",
       "    </tr>\n",
       "    <tr>\n",
       "      <th>9</th>\n",
       "      <td>34</td>\n",
       "      <td>Caribbean small states</td>\n",
       "      <td>29.300000</td>\n",
       "      <td>15268.465085</td>\n",
       "    </tr>\n",
       "  </tbody>\n",
       "</table>\n",
       "</div>\n",
       "      <button class=\"colab-df-convert\" onclick=\"convertToInteractive('df-4713e189-3aca-4a22-b8e7-e6322264684d')\"\n",
       "              title=\"Convert this dataframe to an interactive table.\"\n",
       "              style=\"display:none;\">\n",
       "        \n",
       "  <svg xmlns=\"http://www.w3.org/2000/svg\" height=\"24px\"viewBox=\"0 0 24 24\"\n",
       "       width=\"24px\">\n",
       "    <path d=\"M0 0h24v24H0V0z\" fill=\"none\"/>\n",
       "    <path d=\"M18.56 5.44l.94 2.06.94-2.06 2.06-.94-2.06-.94-.94-2.06-.94 2.06-2.06.94zm-11 1L8.5 8.5l.94-2.06 2.06-.94-2.06-.94L8.5 2.5l-.94 2.06-2.06.94zm10 10l.94 2.06.94-2.06 2.06-.94-2.06-.94-.94-2.06-.94 2.06-2.06.94z\"/><path d=\"M17.41 7.96l-1.37-1.37c-.4-.4-.92-.59-1.43-.59-.52 0-1.04.2-1.43.59L10.3 9.45l-7.72 7.72c-.78.78-.78 2.05 0 2.83L4 21.41c.39.39.9.59 1.41.59.51 0 1.02-.2 1.41-.59l7.78-7.78 2.81-2.81c.8-.78.8-2.07 0-2.86zM5.41 20L4 18.59l7.72-7.72 1.47 1.35L5.41 20z\"/>\n",
       "  </svg>\n",
       "      </button>\n",
       "      \n",
       "  <style>\n",
       "    .colab-df-container {\n",
       "      display:flex;\n",
       "      flex-wrap:wrap;\n",
       "      gap: 12px;\n",
       "    }\n",
       "\n",
       "    .colab-df-convert {\n",
       "      background-color: #E8F0FE;\n",
       "      border: none;\n",
       "      border-radius: 50%;\n",
       "      cursor: pointer;\n",
       "      display: none;\n",
       "      fill: #1967D2;\n",
       "      height: 32px;\n",
       "      padding: 0 0 0 0;\n",
       "      width: 32px;\n",
       "    }\n",
       "\n",
       "    .colab-df-convert:hover {\n",
       "      background-color: #E2EBFA;\n",
       "      box-shadow: 0px 1px 2px rgba(60, 64, 67, 0.3), 0px 1px 3px 1px rgba(60, 64, 67, 0.15);\n",
       "      fill: #174EA6;\n",
       "    }\n",
       "\n",
       "    [theme=dark] .colab-df-convert {\n",
       "      background-color: #3B4455;\n",
       "      fill: #D2E3FC;\n",
       "    }\n",
       "\n",
       "    [theme=dark] .colab-df-convert:hover {\n",
       "      background-color: #434B5C;\n",
       "      box-shadow: 0px 1px 3px 1px rgba(0, 0, 0, 0.15);\n",
       "      filter: drop-shadow(0px 1px 2px rgba(0, 0, 0, 0.3));\n",
       "      fill: #FFFFFF;\n",
       "    }\n",
       "  </style>\n",
       "\n",
       "      <script>\n",
       "        const buttonEl =\n",
       "          document.querySelector('#df-4713e189-3aca-4a22-b8e7-e6322264684d button.colab-df-convert');\n",
       "        buttonEl.style.display =\n",
       "          google.colab.kernel.accessAllowed ? 'block' : 'none';\n",
       "\n",
       "        async function convertToInteractive(key) {\n",
       "          const element = document.querySelector('#df-4713e189-3aca-4a22-b8e7-e6322264684d');\n",
       "          const dataTable =\n",
       "            await google.colab.kernel.invokeFunction('convertToInteractive',\n",
       "                                                     [key], {});\n",
       "          if (!dataTable) return;\n",
       "\n",
       "          const docLinkHtml = 'Like what you see? Visit the ' +\n",
       "            '<a target=\"_blank\" href=https://colab.research.google.com/notebooks/data_table.ipynb>data table notebook</a>'\n",
       "            + ' to learn more about interactive tables.';\n",
       "          element.innerHTML = '';\n",
       "          dataTable['output_type'] = 'display_data';\n",
       "          await google.colab.output.renderOutput(dataTable, element);\n",
       "          const docLink = document.createElement('div');\n",
       "          docLink.innerHTML = docLinkHtml;\n",
       "          element.appendChild(docLink);\n",
       "        }\n",
       "      </script>\n",
       "    </div>\n",
       "  </div>\n",
       "  "
      ],
      "text/plain": [
       "   index                 country  Intentional homicides (per 100,000 people)  \\\n",
       "0     52             El Salvador                                   62.048729   \n",
       "1     76                Honduras                                   56.976382   \n",
       "2     91                 Jamaica                                   46.629342   \n",
       "3     39                Colombia                                   40.743651   \n",
       "4    107                 Lesotho                                   37.606002   \n",
       "5    170            South Africa                                   36.761111   \n",
       "6    136                 Nigeria                                   34.524046   \n",
       "7     70               Guatemala                                   34.255667   \n",
       "8     19                  Belize                                   32.074210   \n",
       "9     34  Caribbean small states                                   29.300000   \n",
       "\n",
       "   GDP per capita, PPP (current international $)  \n",
       "0                                    6233.080958  \n",
       "1                                    3857.460931  \n",
       "2                                    8042.413785  \n",
       "3                                   10523.218579  \n",
       "4                                    2294.755285  \n",
       "5                                   11899.939629  \n",
       "6                                    5234.679127  \n",
       "7                                    6587.522994  \n",
       "8                                    6985.258576  \n",
       "9                                   15268.465085  "
      ]
     },
     "execution_count": 24,
     "metadata": {},
     "output_type": "execute_result"
    }
   ],
   "source": [
    "top_10_homicide = mean_homicide_mortality.sort_values(by=['Intentional homicides (per 100,000 people)'],ascending=False)[:10]\n",
    "top_10_homicide.reset_index()"
   ]
  },
  {
   "cell_type": "code",
   "execution_count": 25,
   "metadata": {
    "colab": {
     "base_uri": "https://localhost:8080/",
     "height": 614
    },
    "executionInfo": {
     "elapsed": 787,
     "status": "ok",
     "timestamp": 1648736127287,
     "user": {
      "displayName": "AJIT SINGH",
      "userId": "13557022148140651253"
     },
     "user_tz": -330
    },
    "id": "Vs_Udfp2WJ0S",
    "outputId": "fa92b2be-6fb9-45a9-b185-1a67ed1c8f18"
   },
   "outputs": [
    {
     "data": {
      "text/plain": [
       "<BarContainer object of 10 artists>"
      ]
     },
     "execution_count": 25,
     "metadata": {},
     "output_type": "execute_result"
    },
    {
     "data": {
      "image/png": "[encoded data removed]",
      "text/plain": [
       "<Figure size 1440x720 with 1 Axes>"
      ]
     },
     "metadata": {
      "needs_background": "light"
     },
     "output_type": "display_data"
    }
   ],
   "source": [
    "plt.barh(top_10_homicide['country'],top_10_homicide[\"Intentional homicides (per 100,000 people)\"])"
   ]
  },
  {
   "cell_type": "markdown",
   "metadata": {
    "id": "WPQ-Od4_F07o"
   },
   "source": [
    "Now let us visualize the gap in GDP of top 5 and bottom 5 countries."
   ]
  },
  {
   "cell_type": "code",
   "execution_count": 26,
   "metadata": {
    "colab": {
     "base_uri": "https://localhost:8080/",
     "height": 481
    },
    "executionInfo": {
     "elapsed": 404,
     "status": "ok",
     "timestamp": 1648736130830,
     "user": {
      "displayName": "AJIT SINGH",
      "userId": "13557022148140651253"
     },
     "user_tz": -330
    },
    "id": "c_iX2ScIF07o",
    "outputId": "663fb79f-6c5f-4117-e96c-6c604d33a724"
   },
   "outputs": [
    {
     "name": "stderr",
     "output_type": "stream",
     "text": [
      "/usr/local/lib/python3.7/dist-packages/ipykernel_launcher.py:1: FutureWarning: Indexing with multiple keys (implicitly converted to a tuple of keys) will be deprecated, use a list instead.\n",
      "  \"\"\"Entry point for launching an IPython kernel.\n"
     ]
    },
    {
     "data": {
      "text/html": [
       "\n",
       "  <div id=\"df-ad6f5236-b644-473e-9fd4-9b8f50eb6b96\">\n",
       "    <div class=\"colab-df-container\">\n",
       "      <div>\n",
       "<style scoped>\n",
       "    .dataframe tbody tr th:only-of-type {\n",
       "        vertical-align: middle;\n",
       "    }\n",
       "\n",
       "    .dataframe tbody tr th {\n",
       "        vertical-align: top;\n",
       "    }\n",
       "\n",
       "    .dataframe thead th {\n",
       "        text-align: right;\n",
       "    }\n",
       "</style>\n",
       "<table border=\"1\" class=\"dataframe\">\n",
       "  <thead>\n",
       "    <tr style=\"text-align: right;\">\n",
       "      <th></th>\n",
       "      <th>index</th>\n",
       "      <th>country</th>\n",
       "      <th>iso3c</th>\n",
       "      <th>GDP per capita, PPP (current international $)</th>\n",
       "      <th>GDP (current US$)</th>\n",
       "    </tr>\n",
       "  </thead>\n",
       "  <tbody>\n",
       "    <tr>\n",
       "      <th>0</th>\n",
       "      <td>153</td>\n",
       "      <td>Qatar</td>\n",
       "      <td>QAT</td>\n",
       "      <td>122389.946417</td>\n",
       "      <td>1.038391e+11</td>\n",
       "    </tr>\n",
       "    <tr>\n",
       "      <th>1</th>\n",
       "      <td>112</td>\n",
       "      <td>Luxembourg</td>\n",
       "      <td>LUX</td>\n",
       "      <td>84957.517419</td>\n",
       "      <td>4.860125e+10</td>\n",
       "    </tr>\n",
       "    <tr>\n",
       "      <th>2</th>\n",
       "      <td>26</td>\n",
       "      <td>Brunei Darussalam</td>\n",
       "      <td>BRN</td>\n",
       "      <td>78632.317948</td>\n",
       "      <td>1.234838e+10</td>\n",
       "    </tr>\n",
       "    <tr>\n",
       "      <th>3</th>\n",
       "      <td>194</td>\n",
       "      <td>United Arab Emirates</td>\n",
       "      <td>ARE</td>\n",
       "      <td>78015.315491</td>\n",
       "      <td>2.986649e+11</td>\n",
       "    </tr>\n",
       "    <tr>\n",
       "      <th>4</th>\n",
       "      <td>98</td>\n",
       "      <td>Kuwait</td>\n",
       "      <td>KWT</td>\n",
       "      <td>77125.087876</td>\n",
       "      <td>9.785367e+10</td>\n",
       "    </tr>\n",
       "    <tr>\n",
       "      <th>...</th>\n",
       "      <td>...</td>\n",
       "      <td>...</td>\n",
       "      <td>...</td>\n",
       "      <td>...</td>\n",
       "      <td>...</td>\n",
       "    </tr>\n",
       "    <tr>\n",
       "      <th>199</th>\n",
       "      <td>134</td>\n",
       "      <td>Niger</td>\n",
       "      <td>NER</td>\n",
       "      <td>1113.456937</td>\n",
       "      <td>9.099932e+09</td>\n",
       "    </tr>\n",
       "    <tr>\n",
       "      <th>200</th>\n",
       "      <td>107</td>\n",
       "      <td>Liberia</td>\n",
       "      <td>LBR</td>\n",
       "      <td>1033.097044</td>\n",
       "      <td>2.009102e+09</td>\n",
       "    </tr>\n",
       "    <tr>\n",
       "      <th>201</th>\n",
       "      <td>35</td>\n",
       "      <td>Central African Republic</td>\n",
       "      <td>CAF</td>\n",
       "      <td>851.072671</td>\n",
       "      <td>1.825018e+09</td>\n",
       "    </tr>\n",
       "    <tr>\n",
       "      <th>202</th>\n",
       "      <td>127</td>\n",
       "      <td>Mozambique</td>\n",
       "      <td>MOZ</td>\n",
       "      <td>766.251894</td>\n",
       "      <td>9.376069e+09</td>\n",
       "    </tr>\n",
       "    <tr>\n",
       "      <th>203</th>\n",
       "      <td>29</td>\n",
       "      <td>Burundi</td>\n",
       "      <td>BDI</td>\n",
       "      <td>719.196191</td>\n",
       "      <td>2.332130e+09</td>\n",
       "    </tr>\n",
       "  </tbody>\n",
       "</table>\n",
       "<p>204 rows × 5 columns</p>\n",
       "</div>\n",
       "      <button class=\"colab-df-convert\" onclick=\"convertToInteractive('df-ad6f5236-b644-473e-9fd4-9b8f50eb6b96')\"\n",
       "              title=\"Convert this dataframe to an interactive table.\"\n",
       "              style=\"display:none;\">\n",
       "        \n",
       "  <svg xmlns=\"http://www.w3.org/2000/svg\" height=\"24px\"viewBox=\"0 0 24 24\"\n",
       "       width=\"24px\">\n",
       "    <path d=\"M0 0h24v24H0V0z\" fill=\"none\"/>\n",
       "    <path d=\"M18.56 5.44l.94 2.06.94-2.06 2.06-.94-2.06-.94-.94-2.06-.94 2.06-2.06.94zm-11 1L8.5 8.5l.94-2.06 2.06-.94-2.06-.94L8.5 2.5l-.94 2.06-2.06.94zm10 10l.94 2.06.94-2.06 2.06-.94-2.06-.94-.94-2.06-.94 2.06-2.06.94z\"/><path d=\"M17.41 7.96l-1.37-1.37c-.4-.4-.92-.59-1.43-.59-.52 0-1.04.2-1.43.59L10.3 9.45l-7.72 7.72c-.78.78-.78 2.05 0 2.83L4 21.41c.39.39.9.59 1.41.59.51 0 1.02-.2 1.41-.59l7.78-7.78 2.81-2.81c.8-.78.8-2.07 0-2.86zM5.41 20L4 18.59l7.72-7.72 1.47 1.35L5.41 20z\"/>\n",
       "  </svg>\n",
       "      </button>\n",
       "      \n",
       "  <style>\n",
       "    .colab-df-container {\n",
       "      display:flex;\n",
       "      flex-wrap:wrap;\n",
       "      gap: 12px;\n",
       "    }\n",
       "\n",
       "    .colab-df-convert {\n",
       "      background-color: #E8F0FE;\n",
       "      border: none;\n",
       "      border-radius: 50%;\n",
       "      cursor: pointer;\n",
       "      display: none;\n",
       "      fill: #1967D2;\n",
       "      height: 32px;\n",
       "      padding: 0 0 0 0;\n",
       "      width: 32px;\n",
       "    }\n",
       "\n",
       "    .colab-df-convert:hover {\n",
       "      background-color: #E2EBFA;\n",
       "      box-shadow: 0px 1px 2px rgba(60, 64, 67, 0.3), 0px 1px 3px 1px rgba(60, 64, 67, 0.15);\n",
       "      fill: #174EA6;\n",
       "    }\n",
       "\n",
       "    [theme=dark] .colab-df-convert {\n",
       "      background-color: #3B4455;\n",
       "      fill: #D2E3FC;\n",
       "    }\n",
       "\n",
       "    [theme=dark] .colab-df-convert:hover {\n",
       "      background-color: #434B5C;\n",
       "      box-shadow: 0px 1px 3px 1px rgba(0, 0, 0, 0.15);\n",
       "      filter: drop-shadow(0px 1px 2px rgba(0, 0, 0, 0.3));\n",
       "      fill: #FFFFFF;\n",
       "    }\n",
       "  </style>\n",
       "\n",
       "      <script>\n",
       "        const buttonEl =\n",
       "          document.querySelector('#df-ad6f5236-b644-473e-9fd4-9b8f50eb6b96 button.colab-df-convert');\n",
       "        buttonEl.style.display =\n",
       "          google.colab.kernel.accessAllowed ? 'block' : 'none';\n",
       "\n",
       "        async function convertToInteractive(key) {\n",
       "          const element = document.querySelector('#df-ad6f5236-b644-473e-9fd4-9b8f50eb6b96');\n",
       "          const dataTable =\n",
       "            await google.colab.kernel.invokeFunction('convertToInteractive',\n",
       "                                                     [key], {});\n",
       "          if (!dataTable) return;\n",
       "\n",
       "          const docLinkHtml = 'Like what you see? Visit the ' +\n",
       "            '<a target=\"_blank\" href=https://colab.research.google.com/notebooks/data_table.ipynb>data table notebook</a>'\n",
       "            + ' to learn more about interactive tables.';\n",
       "          element.innerHTML = '';\n",
       "          dataTable['output_type'] = 'display_data';\n",
       "          await google.colab.output.renderOutput(dataTable, element);\n",
       "          const docLink = document.createElement('div');\n",
       "          docLink.innerHTML = docLinkHtml;\n",
       "          element.appendChild(docLink);\n",
       "        }\n",
       "      </script>\n",
       "    </div>\n",
       "  </div>\n",
       "  "
      ],
      "text/plain": [
       "     index                   country iso3c  \\\n",
       "0      153                     Qatar   QAT   \n",
       "1      112                Luxembourg   LUX   \n",
       "2       26         Brunei Darussalam   BRN   \n",
       "3      194      United Arab Emirates   ARE   \n",
       "4       98                    Kuwait   KWT   \n",
       "..     ...                       ...   ...   \n",
       "199    134                     Niger   NER   \n",
       "200    107                   Liberia   LBR   \n",
       "201     35  Central African Republic   CAF   \n",
       "202    127                Mozambique   MOZ   \n",
       "203     29                   Burundi   BDI   \n",
       "\n",
       "     GDP per capita, PPP (current international $)  GDP (current US$)  \n",
       "0                                    122389.946417       1.038391e+11  \n",
       "1                                     84957.517419       4.860125e+10  \n",
       "2                                     78632.317948       1.234838e+10  \n",
       "3                                     78015.315491       2.986649e+11  \n",
       "4                                     77125.087876       9.785367e+10  \n",
       "..                                             ...                ...  \n",
       "199                                    1113.456937       9.099932e+09  \n",
       "200                                    1033.097044       2.009102e+09  \n",
       "201                                     851.072671       1.825018e+09  \n",
       "202                                     766.251894       9.376069e+09  \n",
       "203                                     719.196191       2.332130e+09  \n",
       "\n",
       "[204 rows x 5 columns]"
      ]
     },
     "execution_count": 26,
     "metadata": {},
     "output_type": "execute_result"
    }
   ],
   "source": [
    "mean_GDP = pd.DataFrame(data_cleaned.groupby(['country', 'iso3c'])['GDP per capita, PPP (current international $)','GDP (current US$)'].mean().reset_index())\n",
    "mean_GDP = mean_GDP.sort_values(by = ['GDP per capita, PPP (current international $)'], ascending=False).reset_index()\n",
    "mean_GDP"
   ]
  },
  {
   "cell_type": "code",
   "execution_count": 27,
   "metadata": {
    "colab": {
     "base_uri": "https://localhost:8080/"
    },
    "executionInfo": {
     "elapsed": 384,
     "status": "ok",
     "timestamp": 1648736133397,
     "user": {
      "displayName": "AJIT SINGH",
      "userId": "13557022148140651253"
     },
     "user_tz": -330
    },
    "id": "CngUcKoSbt20",
    "outputId": "90df6e60-8e9f-4b6e-f0d2-605b2e84e04e"
   },
   "outputs": [
    {
     "name": "stdout",
     "output_type": "stream",
     "text": [
      "[122389.94641713  84957.51741894  78632.31794835  78015.31549111\n",
      "  77125.08787634   1113.45693668   1033.09704432    851.07267131\n",
      "    766.25189376    719.1961914 ]\n"
     ]
    }
   ],
   "source": [
    "\n",
    "X = np.array(mean_GDP['GDP per capita, PPP (current international $)'][:5] )\n",
    "Y = np.array(mean_GDP['GDP per capita, PPP (current international $)'][-5:])\n",
    "print(np.append(X,Y))"
   ]
  },
  {
   "cell_type": "code",
   "execution_count": 28,
   "metadata": {
    "colab": {
     "base_uri": "https://localhost:8080/",
     "height": 594
    },
    "executionInfo": {
     "elapsed": 12,
     "status": "ok",
     "timestamp": 1648736135092,
     "user": {
      "displayName": "AJIT SINGH",
      "userId": "13557022148140651253"
     },
     "user_tz": -330
    },
    "id": "RLExAJ-1bhnP",
    "outputId": "2f7ad59a-bfcd-45fd-d699-fdba997a46bb"
   },
   "outputs": [
    {
     "data": {
      "image/png": "[encoded data removed]",
      "text/plain": [
       "<Figure size 1440x720 with 1 Axes>"
      ]
     },
     "metadata": {},
     "output_type": "display_data"
    }
   ],
   "source": [
    "slices = np.append(np.array(mean_GDP['GDP per capita, PPP (current international $)'][:5] ), np.array(mean_GDP['GDP per capita, PPP (current international $)'][-5:]))\n",
    "activities = np.append(np.array(mean_GDP['country'][:5] ), np.array(mean_GDP['country'][-5:]))\n",
    "plt.pie(slices, labels=activities, startangle=90, shadow= True, explode=(0.1,0,0,0,0,0.1,0,0,0,0), autopct= '%1.1f%%')\n",
    "plt.title('Pie Plot of Mean GDP over the years 2009 to 2012')\n",
    "plt.show()\n"
   ]
  },
  {
   "cell_type": "markdown",
   "metadata": {
    "id": "KssZ_EpOO55m"
   },
   "source": [
    "It seems that the ratio of GDP of top 5 countries with highest GDP to bottom 5 is very high. "
   ]
  },
  {
   "cell_type": "markdown",
   "metadata": {
    "id": "KLIxI_rxF07q"
   },
   "source": [
    "Let us save and upload our work to Jovian before continuing"
   ]
  },
  {
   "cell_type": "code",
   "execution_count": 29,
   "metadata": {
    "executionInfo": {
     "elapsed": 5,
     "status": "ok",
     "timestamp": 1648736139946,
     "user": {
      "displayName": "AJIT SINGH",
      "userId": "13557022148140651253"
     },
     "user_tz": -330
    },
    "id": "4mAn_uY2F07q"
   },
   "outputs": [],
   "source": [
    "import jovian"
   ]
  },
  {
   "cell_type": "code",
   "execution_count": 30,
   "metadata": {
    "colab": {
     "base_uri": "https://localhost:8080/",
     "height": 92
    },
    "executionInfo": {
     "elapsed": 3070,
     "status": "ok",
     "timestamp": 1648736143634,
     "user": {
      "displayName": "AJIT SINGH",
      "userId": "13557022148140651253"
     },
     "user_tz": -330
    },
    "id": "BWbPVmp_F07s",
    "outputId": "db42aa25-6ae0-42fb-e193-59cd22a098ce"
   },
   "outputs": [
    {
     "name": "stdout",
     "output_type": "stream",
     "text": [
      "[jovian] Detected Colab notebook...\u001b[0m\n",
      "[jovian] Uploading colab notebook to Jovian...\u001b[0m\n",
      "Committed successfully! https://jovian.ai/2019phs1005/analysis-of-homicide-and-sucide-rates-of-countries\n"
     ]
    },
    {
     "data": {
      "application/vnd.google.colaboratory.intrinsic+json": {
       "type": "string"
      },
      "text/plain": [
       "'https://jovian.ai/2019phs1005/analysis-of-homicide-and-sucide-rates-of-countries'"
      ]
     },
     "execution_count": 30,
     "metadata": {},
     "output_type": "execute_result"
    }
   ],
   "source": [
    "jovian.commit()"
   ]
  },
  {
   "cell_type": "markdown",
   "metadata": {
    "id": "mUNxXL51F07t"
   },
   "source": [
    "## Asking and Answering Questions\n",
    "\n",
    "We shall start answering some intersting question about our dataset.\n",
    "\n"
   ]
  },
  {
   "cell_type": "markdown",
   "metadata": {
    "id": "dlRXZbuQF07u"
   },
   "source": [
    "#### Q1: Which country has the highest GDP per capita ?\n",
    "\n"
   ]
  },
  {
   "cell_type": "code",
   "execution_count": 31,
   "metadata": {
    "executionInfo": {
     "elapsed": 3,
     "status": "ok",
     "timestamp": 1648736144249,
     "user": {
      "displayName": "AJIT SINGH",
      "userId": "13557022148140651253"
     },
     "user_tz": -330
    },
    "id": "oStZX5ZZF07u"
   },
   "outputs": [],
   "source": [
    "top10_mean_GDP_percapita = np.array(mean_GDP['GDP per capita, PPP (current international $)'][0:10])\n",
    "top10_GDP_countries_percapita = np.array(mean_GDP['country'][0:10])"
   ]
  },
  {
   "cell_type": "code",
   "execution_count": 32,
   "metadata": {
    "colab": {
     "base_uri": "https://localhost:8080/",
     "height": 689
    },
    "executionInfo": {
     "elapsed": 586,
     "status": "ok",
     "timestamp": 1648736146404,
     "user": {
      "displayName": "AJIT SINGH",
      "userId": "13557022148140651253"
     },
     "user_tz": -330
    },
    "id": "H9sEQr07F07u",
    "outputId": "923f67b6-c60f-483d-a96f-0812980262ae"
   },
   "outputs": [
    {
     "name": "stderr",
     "output_type": "stream",
     "text": [
      "/usr/local/lib/python3.7/dist-packages/ipykernel_launcher.py:1: UserWarning: In Matplotlib 3.3 individual lines on a stem plot will be added as a LineCollection instead of individual lines. This significantly improves the performance of a stem plot. To remove this warning and switch to the new behaviour, set the \"use_line_collection\" keyword argument to True.\n",
      "  \"\"\"Entry point for launching an IPython kernel.\n"
     ]
    },
    {
     "data": {
      "text/plain": [
       "Text(0, 0.5, 'GDP in US$')"
      ]
     },
     "execution_count": 32,
     "metadata": {},
     "output_type": "execute_result"
    },
    {
     "data": {
      "image/png": "[encoded data removed]",
      "text/plain": [
       "<Figure size 1440x720 with 1 Axes>"
      ]
     },
     "metadata": {
      "needs_background": "light"
     },
     "output_type": "display_data"
    }
   ],
   "source": [
    "plt.stem(top10_GDP_countries_percapita, top10_mean_GDP_percapita)\n",
    "plt.xlabel(\"Countries\")\n",
    "plt.ylabel(\"GDP in US$\")"
   ]
  },
  {
   "cell_type": "markdown",
   "metadata": {
    "id": "_coDyWwlF07v"
   },
   "source": [
    "#### Q2: Which country has the lowest GDP per capita ?"
   ]
  },
  {
   "cell_type": "code",
   "execution_count": 33,
   "metadata": {
    "executionInfo": {
     "elapsed": 415,
     "status": "ok",
     "timestamp": 1648736152294,
     "user": {
      "displayName": "AJIT SINGH",
      "userId": "13557022148140651253"
     },
     "user_tz": -330
    },
    "id": "M42HMuu5F07v"
   },
   "outputs": [],
   "source": [
    "bottom10_mean_GDP_percapita = np.array(mean_GDP['GDP per capita, PPP (current international $)'][-10:])\n",
    "bottom10_GDP_percapita_countries = np.array(mean_GDP['country'][-10:])"
   ]
  },
  {
   "cell_type": "code",
   "execution_count": 36,
   "metadata": {
    "colab": {
     "base_uri": "https://localhost:8080/",
     "height": 689
    },
    "executionInfo": {
     "elapsed": 937,
     "status": "ok",
     "timestamp": 1648736259771,
     "user": {
      "displayName": "AJIT SINGH",
      "userId": "13557022148140651253"
     },
     "user_tz": -330
    },
    "id": "Mx1uYj5QF07v",
    "outputId": "5c2db617-4e82-4742-8083-375596af7194"
   },
   "outputs": [
    {
     "name": "stderr",
     "output_type": "stream",
     "text": [
      "/usr/local/lib/python3.7/dist-packages/ipykernel_launcher.py:1: UserWarning: In Matplotlib 3.3 individual lines on a stem plot will be added as a LineCollection instead of individual lines. This significantly improves the performance of a stem plot. To remove this warning and switch to the new behaviour, set the \"use_line_collection\" keyword argument to True.\n",
      "  \"\"\"Entry point for launching an IPython kernel.\n"
     ]
    },
    {
     "data": {
      "text/plain": [
       "Text(0, 0.5, 'GDP in US$')"
      ]
     },
     "execution_count": 36,
     "metadata": {},
     "output_type": "execute_result"
    },
    {
     "data": {
      "image/png": "[encoded data removed]",
      "text/plain": [
       "<Figure size 1440x720 with 1 Axes>"
      ]
     },
     "metadata": {
      "needs_background": "light"
     },
     "output_type": "display_data"
    }
   ],
   "source": [
    "plt.stem(bottom10_GDP_percapita_countries, bottom10_mean_GDP_percapita)\n",
    "plt.xlabel(\"Countries\")\n",
    "plt.ylabel(\"GDP in US$\")\n"
   ]
  },
  {
   "cell_type": "markdown",
   "metadata": {
    "id": "dmeImvdxF07w"
   },
   "source": [
    "#### Q3:What is the trend of the suicide and homicide rates over time?\n",
    "\n"
   ]
  },
  {
   "cell_type": "code",
   "execution_count": 37,
   "metadata": {
    "colab": {
     "base_uri": "https://localhost:8080/"
    },
    "executionInfo": {
     "elapsed": 426,
     "status": "ok",
     "timestamp": 1648736262921,
     "user": {
      "displayName": "AJIT SINGH",
      "userId": "13557022148140651253"
     },
     "user_tz": -330
    },
    "id": "rgOfNlRCF07w",
    "outputId": "3ee755b8-e6c1-47e9-93bf-8d8cd29aaa9b"
   },
   "outputs": [
    {
     "name": "stderr",
     "output_type": "stream",
     "text": [
      "/usr/local/lib/python3.7/dist-packages/ipykernel_launcher.py:1: FutureWarning: Indexing with multiple keys (implicitly converted to a tuple of keys) will be deprecated, use a list instead.\n",
      "  \"\"\"Entry point for launching an IPython kernel.\n"
     ]
    }
   ],
   "source": [
    "mean_SH_rates = pd.DataFrame(data_cleaned.groupby(['year'])['Intentional homicides (per 100,000 people)', 'Suicide mortality rate (per 100,000 population)'].mean().reset_index())\n"
   ]
  },
  {
   "cell_type": "code",
   "execution_count": 38,
   "metadata": {
    "executionInfo": {
     "elapsed": 441,
     "status": "ok",
     "timestamp": 1648736268257,
     "user": {
      "displayName": "AJIT SINGH",
      "userId": "13557022148140651253"
     },
     "user_tz": -330
    },
    "id": "qigLMIGXF07w"
   },
   "outputs": [],
   "source": [
    "mean_S_over_years = mean_SH_rates.sort_values(by = ['Suicide mortality rate (per 100,000 population)'], ascending=False).reset_index()\n",
    "mean_H_over_years = mean_SH_rates.sort_values(by = ['Intentional homicides (per 100,000 people)'], ascending=False).reset_index()"
   ]
  },
  {
   "cell_type": "code",
   "execution_count": 43,
   "metadata": {
    "colab": {
     "base_uri": "https://localhost:8080/",
     "height": 614
    },
    "executionInfo": {
     "elapsed": 1421,
     "status": "ok",
     "timestamp": 1648736439180,
     "user": {
      "displayName": "AJIT SINGH",
      "userId": "13557022148140651253"
     },
     "user_tz": -330
    },
    "id": "RGwoYg8UF07x",
    "outputId": "5a4401e4-fc6f-4351-f2e1-d098eb1db497"
   },
   "outputs": [
    {
     "data": {
      "text/plain": [
       "<matplotlib.collections.PathCollection at 0x7ffa73b2bb50>"
      ]
     },
     "execution_count": 43,
     "metadata": {},
     "output_type": "execute_result"
    },
    {
     "data": {
      "image/png": "[encoded data removed]",
      "text/plain": [
       "<Figure size 1440x720 with 1 Axes>"
      ]
     },
     "metadata": {
      "needs_background": "light"
     },
     "output_type": "display_data"
    }
   ],
   "source": [
    "plt.scatter(mean_SH_rates['year'],mean_S_over_years['Suicide mortality rate (per 100,000 population)'] )\n",
    "plt.scatter(mean_SH_rates['year'],mean_H_over_years['Intentional homicides (per 100,000 people)'], color='red' )"
   ]
  },
  {
   "cell_type": "markdown",
   "metadata": {
    "id": "fXZAA1QbWe_s"
   },
   "source": [
    "We can observe that the mean suicide and homicide rates have constatly decreased over time."
   ]
  },
  {
   "cell_type": "markdown",
   "metadata": {
    "id": "a3rfrzkgF07x"
   },
   "source": [
    "#### Q4: In which year suicide and homicide rates were lowest and highest?"
   ]
  },
  {
   "cell_type": "code",
   "execution_count": 61,
   "metadata": {
    "colab": {
     "base_uri": "https://localhost:8080/"
    },
    "executionInfo": {
     "elapsed": 415,
     "status": "ok",
     "timestamp": 1648737511279,
     "user": {
      "displayName": "AJIT SINGH",
      "userId": "13557022148140651253"
     },
     "user_tz": -330
    },
    "id": "cEFR4yGOF07x",
    "outputId": "be7dd468-0d32-4779-c6ac-a442336a3268"
   },
   "outputs": [
    {
     "name": "stdout",
     "output_type": "stream",
     "text": [
      "Homicide mortality rates were highest in 2002\n",
      "Suicide mortality rates were highest in 2000\n",
      "Homicide mortality rates were lowest in 2018\n",
      "Suicide mortality rates were lowest in 2016\n"
     ]
    }
   ],
   "source": [
    "print('Homicide mortality rates were highest in {}'.format(mean_H_over_years['year'][0]))\n",
    "print('Suicide mortality rates were highest in {}'.format(mean_S_over_years['year'][0]))\n",
    "print('Homicide mortality rates were lowest in {}'.format(mean_H_over_years['year'][18]))\n",
    "print('Suicide mortality rates were lowest in {}'.format(mean_S_over_years['year'][18]))"
   ]
  },
  {
   "cell_type": "markdown",
   "metadata": {
    "id": "z4WABTw8F07x"
   },
   "source": [
    "#### Q5: Which regions have the highest and lowest GDP per capita?"
   ]
  },
  {
   "cell_type": "code",
   "execution_count": 63,
   "metadata": {
    "executionInfo": {
     "elapsed": 421,
     "status": "ok",
     "timestamp": 1648737664771,
     "user": {
      "displayName": "AJIT SINGH",
      "userId": "13557022148140651253"
     },
     "user_tz": -330
    },
    "id": "6DzXk8xuF07y"
   },
   "outputs": [],
   "source": [
    "mean_GDP_regions = pd.DataFrame(data_cleaned.groupby(['adminregion'])['GDP per capita, PPP (current international $)'].mean().reset_index())\n",
    "mean_GDP_regions =mean_GDP_regions.sort_values(by = ['GDP per capita, PPP (current international $)'], ascending=False).reset_index()\n"
   ]
  },
  {
   "cell_type": "code",
   "execution_count": 64,
   "metadata": {
    "colab": {
     "base_uri": "https://localhost:8080/",
     "height": 238
    },
    "executionInfo": {
     "elapsed": 480,
     "status": "ok",
     "timestamp": 1648737737466,
     "user": {
      "displayName": "AJIT SINGH",
      "userId": "13557022148140651253"
     },
     "user_tz": -330
    },
    "id": "Vy7JBahhbU15",
    "outputId": "d85b3e30-f277-4f81-bb12-32738d60bbac"
   },
   "outputs": [
    {
     "data": {
      "text/html": [
       "\n",
       "  <div id=\"df-d2ef82bb-9316-45dd-8e1b-1047e276bb36\">\n",
       "    <div class=\"colab-df-container\">\n",
       "      <div>\n",
       "<style scoped>\n",
       "    .dataframe tbody tr th:only-of-type {\n",
       "        vertical-align: middle;\n",
       "    }\n",
       "\n",
       "    .dataframe tbody tr th {\n",
       "        vertical-align: top;\n",
       "    }\n",
       "\n",
       "    .dataframe thead th {\n",
       "        text-align: right;\n",
       "    }\n",
       "</style>\n",
       "<table border=\"1\" class=\"dataframe\">\n",
       "  <thead>\n",
       "    <tr style=\"text-align: right;\">\n",
       "      <th></th>\n",
       "      <th>index</th>\n",
       "      <th>adminregion</th>\n",
       "      <th>GDP per capita, PPP (current international $)</th>\n",
       "    </tr>\n",
       "  </thead>\n",
       "  <tbody>\n",
       "    <tr>\n",
       "      <th>0</th>\n",
       "      <td>1</td>\n",
       "      <td>Europe &amp; Central Asia (excluding high income)</td>\n",
       "      <td>10614.294739</td>\n",
       "    </tr>\n",
       "    <tr>\n",
       "      <th>1</th>\n",
       "      <td>2</td>\n",
       "      <td>Latin America &amp; Caribbean (excluding high income)</td>\n",
       "      <td>9892.962075</td>\n",
       "    </tr>\n",
       "    <tr>\n",
       "      <th>2</th>\n",
       "      <td>3</td>\n",
       "      <td>Middle East &amp; North Africa (excluding high inc...</td>\n",
       "      <td>9387.553223</td>\n",
       "    </tr>\n",
       "    <tr>\n",
       "      <th>3</th>\n",
       "      <td>0</td>\n",
       "      <td>East Asia &amp; Pacific (excluding high income)</td>\n",
       "      <td>6680.633232</td>\n",
       "    </tr>\n",
       "    <tr>\n",
       "      <th>4</th>\n",
       "      <td>4</td>\n",
       "      <td>South Asia</td>\n",
       "      <td>4937.723020</td>\n",
       "    </tr>\n",
       "    <tr>\n",
       "      <th>5</th>\n",
       "      <td>5</td>\n",
       "      <td>Sub-Saharan Africa (excluding high income)</td>\n",
       "      <td>4546.445988</td>\n",
       "    </tr>\n",
       "  </tbody>\n",
       "</table>\n",
       "</div>\n",
       "      <button class=\"colab-df-convert\" onclick=\"convertToInteractive('df-d2ef82bb-9316-45dd-8e1b-1047e276bb36')\"\n",
       "              title=\"Convert this dataframe to an interactive table.\"\n",
       "              style=\"display:none;\">\n",
       "        \n",
       "  <svg xmlns=\"http://www.w3.org/2000/svg\" height=\"24px\"viewBox=\"0 0 24 24\"\n",
       "       width=\"24px\">\n",
       "    <path d=\"M0 0h24v24H0V0z\" fill=\"none\"/>\n",
       "    <path d=\"M18.56 5.44l.94 2.06.94-2.06 2.06-.94-2.06-.94-.94-2.06-.94 2.06-2.06.94zm-11 1L8.5 8.5l.94-2.06 2.06-.94-2.06-.94L8.5 2.5l-.94 2.06-2.06.94zm10 10l.94 2.06.94-2.06 2.06-.94-2.06-.94-.94-2.06-.94 2.06-2.06.94z\"/><path d=\"M17.41 7.96l-1.37-1.37c-.4-.4-.92-.59-1.43-.59-.52 0-1.04.2-1.43.59L10.3 9.45l-7.72 7.72c-.78.78-.78 2.05 0 2.83L4 21.41c.39.39.9.59 1.41.59.51 0 1.02-.2 1.41-.59l7.78-7.78 2.81-2.81c.8-.78.8-2.07 0-2.86zM5.41 20L4 18.59l7.72-7.72 1.47 1.35L5.41 20z\"/>\n",
       "  </svg>\n",
       "      </button>\n",
       "      \n",
       "  <style>\n",
       "    .colab-df-container {\n",
       "      display:flex;\n",
       "      flex-wrap:wrap;\n",
       "      gap: 12px;\n",
       "    }\n",
       "\n",
       "    .colab-df-convert {\n",
       "      background-color: #E8F0FE;\n",
       "      border: none;\n",
       "      border-radius: 50%;\n",
       "      cursor: pointer;\n",
       "      display: none;\n",
       "      fill: #1967D2;\n",
       "      height: 32px;\n",
       "      padding: 0 0 0 0;\n",
       "      width: 32px;\n",
       "    }\n",
       "\n",
       "    .colab-df-convert:hover {\n",
       "      background-color: #E2EBFA;\n",
       "      box-shadow: 0px 1px 2px rgba(60, 64, 67, 0.3), 0px 1px 3px 1px rgba(60, 64, 67, 0.15);\n",
       "      fill: #174EA6;\n",
       "    }\n",
       "\n",
       "    [theme=dark] .colab-df-convert {\n",
       "      background-color: #3B4455;\n",
       "      fill: #D2E3FC;\n",
       "    }\n",
       "\n",
       "    [theme=dark] .colab-df-convert:hover {\n",
       "      background-color: #434B5C;\n",
       "      box-shadow: 0px 1px 3px 1px rgba(0, 0, 0, 0.15);\n",
       "      filter: drop-shadow(0px 1px 2px rgba(0, 0, 0, 0.3));\n",
       "      fill: #FFFFFF;\n",
       "    }\n",
       "  </style>\n",
       "\n",
       "      <script>\n",
       "        const buttonEl =\n",
       "          document.querySelector('#df-d2ef82bb-9316-45dd-8e1b-1047e276bb36 button.colab-df-convert');\n",
       "        buttonEl.style.display =\n",
       "          google.colab.kernel.accessAllowed ? 'block' : 'none';\n",
       "\n",
       "        async function convertToInteractive(key) {\n",
       "          const element = document.querySelector('#df-d2ef82bb-9316-45dd-8e1b-1047e276bb36');\n",
       "          const dataTable =\n",
       "            await google.colab.kernel.invokeFunction('convertToInteractive',\n",
       "                                                     [key], {});\n",
       "          if (!dataTable) return;\n",
       "\n",
       "          const docLinkHtml = 'Like what you see? Visit the ' +\n",
       "            '<a target=\"_blank\" href=https://colab.research.google.com/notebooks/data_table.ipynb>data table notebook</a>'\n",
       "            + ' to learn more about interactive tables.';\n",
       "          element.innerHTML = '';\n",
       "          dataTable['output_type'] = 'display_data';\n",
       "          await google.colab.output.renderOutput(dataTable, element);\n",
       "          const docLink = document.createElement('div');\n",
       "          docLink.innerHTML = docLinkHtml;\n",
       "          element.appendChild(docLink);\n",
       "        }\n",
       "      </script>\n",
       "    </div>\n",
       "  </div>\n",
       "  "
      ],
      "text/plain": [
       "   index                                        adminregion  \\\n",
       "0      1      Europe & Central Asia (excluding high income)   \n",
       "1      2  Latin America & Caribbean (excluding high income)   \n",
       "2      3  Middle East & North Africa (excluding high inc...   \n",
       "3      0        East Asia & Pacific (excluding high income)   \n",
       "4      4                                         South Asia   \n",
       "5      5         Sub-Saharan Africa (excluding high income)   \n",
       "\n",
       "   GDP per capita, PPP (current international $)  \n",
       "0                                   10614.294739  \n",
       "1                                    9892.962075  \n",
       "2                                    9387.553223  \n",
       "3                                    6680.633232  \n",
       "4                                    4937.723020  \n",
       "5                                    4546.445988  "
      ]
     },
     "execution_count": 64,
     "metadata": {},
     "output_type": "execute_result"
    }
   ],
   "source": [
    "mean_GDP_regions"
   ]
  },
  {
   "cell_type": "code",
   "execution_count": 72,
   "metadata": {
    "colab": {
     "base_uri": "https://localhost:8080/",
     "height": 594
    },
    "executionInfo": {
     "elapsed": 1914,
     "status": "ok",
     "timestamp": 1648737967548,
     "user": {
      "displayName": "AJIT SINGH",
      "userId": "13557022148140651253"
     },
     "user_tz": -330
    },
    "id": "MWYiExoOF07z",
    "outputId": "64dc6a49-cb4d-4a4e-f199-60e9338e9b53"
   },
   "outputs": [
    {
     "data": {
      "image/png": "[encoded data removed]",
      "text/plain": [
       "<Figure size 1440x720 with 1 Axes>"
      ]
     },
     "metadata": {},
     "output_type": "display_data"
    }
   ],
   "source": [
    "slices = np.array(mean_GDP_regions['GDP per capita, PPP (current international $)'] )\n",
    "activ =  np.array(mean_GDP_regions['adminregion'])\n",
    "plt.pie(slices, labels=activ, startangle=90, shadow= True, explode=(0.1,0,0,0,0,0.1), autopct= '%1.1f%%')\n",
    "plt.title('Pie Plot of Mean GDP over the years 2009 to 2012')\n",
    "plt.show()"
   ]
  },
  {
   "cell_type": "markdown",
   "metadata": {
    "id": "4LMv3nXMF07z"
   },
   "source": [
    "Let us save and upload our work to Jovian before continuing."
   ]
  },
  {
   "cell_type": "code",
   "execution_count": 73,
   "metadata": {
    "executionInfo": {
     "elapsed": 366,
     "status": "ok",
     "timestamp": 1648737999034,
     "user": {
      "displayName": "AJIT SINGH",
      "userId": "13557022148140651253"
     },
     "user_tz": -330
    },
    "id": "jaFo-0sKF07z"
   },
   "outputs": [],
   "source": [
    "import jovian"
   ]
  },
  {
   "cell_type": "code",
   "execution_count": 74,
   "metadata": {
    "colab": {
     "base_uri": "https://localhost:8080/",
     "height": 92
    },
    "executionInfo": {
     "elapsed": 2953,
     "status": "ok",
     "timestamp": 1648738002377,
     "user": {
      "displayName": "AJIT SINGH",
      "userId": "13557022148140651253"
     },
     "user_tz": -330
    },
    "id": "9cn3rF6FF070",
    "outputId": "894c570b-b65a-43a4-e63c-4ada3515554b"
   },
   "outputs": [
    {
     "name": "stdout",
     "output_type": "stream",
     "text": [
      "[jovian] Detected Colab notebook...\u001b[0m\n",
      "[jovian] Uploading colab notebook to Jovian...\u001b[0m\n",
      "Committed successfully! https://jovian.ai/2019phs1005/analysis-of-homicide-and-sucide-rates-of-countries\n"
     ]
    },
    {
     "data": {
      "application/vnd.google.colaboratory.intrinsic+json": {
       "type": "string"
      },
      "text/plain": [
       "'https://jovian.ai/2019phs1005/analysis-of-homicide-and-sucide-rates-of-countries'"
      ]
     },
     "execution_count": 74,
     "metadata": {},
     "output_type": "execute_result"
    }
   ],
   "source": [
    "jovian.commit()"
   ]
  },
  {
   "cell_type": "markdown",
   "metadata": {
    "id": "Qq8em7fCF070"
   },
   "source": [
    "## Inferences and Conclusion\n",
    "\n",
    "In this begginer data analysis we analyzed a suicide and homicide rate dataset. We used popular python libraries for data analysis, like numpy, pandas and matplotlib to perform basic operations to extract some useful information and establish relationships among attributes of the dataset."
   ]
  },
  {
   "cell_type": "code",
   "execution_count": 75,
   "metadata": {
    "executionInfo": {
     "elapsed": 412,
     "status": "ok",
     "timestamp": 1648738008759,
     "user": {
      "displayName": "AJIT SINGH",
      "userId": "13557022148140651253"
     },
     "user_tz": -330
    },
    "id": "S_9llIhFF070"
   },
   "outputs": [],
   "source": [
    "import jovian"
   ]
  },
  {
   "cell_type": "code",
   "execution_count": 76,
   "metadata": {
    "colab": {
     "base_uri": "https://localhost:8080/",
     "height": 92
    },
    "executionInfo": {
     "elapsed": 3588,
     "status": "ok",
     "timestamp": 1648738012869,
     "user": {
      "displayName": "AJIT SINGH",
      "userId": "13557022148140651253"
     },
     "user_tz": -330
    },
    "id": "jbUKxN7BF071",
    "outputId": "40ff9111-3a62-482c-cf7e-cd7809ffa6ac"
   },
   "outputs": [
    {
     "name": "stdout",
     "output_type": "stream",
     "text": [
      "[jovian] Detected Colab notebook...\u001b[0m\n",
      "[jovian] Uploading colab notebook to Jovian...\u001b[0m\n",
      "Committed successfully! https://jovian.ai/2019phs1005/analysis-of-homicide-and-sucide-rates-of-countries\n"
     ]
    },
    {
     "data": {
      "application/vnd.google.colaboratory.intrinsic+json": {
       "type": "string"
      },
      "text/plain": [
       "'https://jovian.ai/2019phs1005/analysis-of-homicide-and-sucide-rates-of-countries'"
      ]
     },
     "execution_count": 76,
     "metadata": {},
     "output_type": "execute_result"
    }
   ],
   "source": [
    "jovian.commit()"
   ]
  },
  {
   "cell_type": "markdown",
   "metadata": {
    "id": "-G4eZpKDF071"
   },
   "source": [
    "## References and Future Work\n",
    "\n",
    "Resources used in this project are listed below:\n",
    "\n",
    "> For dataset : www.kaggle.com\n",
    "\n",
    "> Python libraries : matplotlib , pandas, numpy, seaborn, jovian\n",
    "\n",
    ">Google Colab (ipython notebook)\n",
    "\n",
    "In future we plan to analyze a broader dataset including more parameters like happiness index, education level, corruption level etc to figure out their relationships with suicide and homicide rates. This study has the potential to act as a catalyst towards understanding the human induced mortality in countries.\n"
   ]
  },
  {
   "cell_type": "markdown",
   "metadata": {
    "id": "MlOtkZNiF072"
   },
   "source": [
    "> Submission Instructions (delete this cell)\n",
    "> \n",
    "> - Upload your notebook to your Jovian.ml profile using `jovian.commit`.\n",
    "> - **Make a submission here**: https://jovian.ml/learn/data-analysis-with-python-zero-to-pandas/assignment/course-project\n",
    "> - Share your work on the forum: https://jovian.ml/forum/t/course-project-on-exploratory-data-analysis-discuss-and-share-your-work/11684\n",
    "> - Share your work on social media (Twitter, LinkedIn, Telegram etc.) and tag [@JovianML](https://twitter.com/jovianml)\n",
    ">\n",
    "\n",
    "\n",
    " "
   ]
  },
  {
   "cell_type": "code",
   "execution_count": null,
   "metadata": {
    "id": "0giQ5kKXF072"
   },
   "outputs": [],
   "source": [
    "import jovian"
   ]
  },
  {
   "cell_type": "code",
   "execution_count": 244,
   "metadata": {
    "colab": {
     "base_uri": "https://localhost:8080/",
     "height": 92
    },
    "executionInfo": {
     "elapsed": 1949,
     "status": "ok",
     "timestamp": 1648725385995,
     "user": {
      "displayName": "AJIT SINGH",
      "userId": "13557022148140651253"
     },
     "user_tz": -330
    },
    "id": "8z-sT4p_F073",
    "outputId": "016842bf-ef19-4e6f-b32a-c6fb42b66338",
    "scrolled": true
   },
   "outputs": [
    {
     "name": "stdout",
     "output_type": "stream",
     "text": [
      "[jovian] Detected Colab notebook...\u001b[0m\n",
      "[jovian] Uploading colab notebook to Jovian...\u001b[0m\n",
      "Committed successfully! https://jovian.ai/2019phs1005/analysis-of-homicide-and-sucide-rates-of-countries\n"
     ]
    },
    {
     "data": {
      "application/vnd.google.colaboratory.intrinsic+json": {
       "type": "string"
      },
      "text/plain": [
       "'https://jovian.ai/2019phs1005/analysis-of-homicide-and-sucide-rates-of-countries'"
      ]
     },
     "execution_count": 244,
     "metadata": {},
     "output_type": "execute_result"
    }
   ],
   "source": [
    "jovian.commit()"
   ]
  },
  {
   "cell_type": "code",
   "execution_count": 244,
   "metadata": {
    "executionInfo": {
     "elapsed": 31,
     "status": "ok",
     "timestamp": 1648725385996,
     "user": {
      "displayName": "AJIT SINGH",
      "userId": "13557022148140651253"
     },
     "user_tz": -330
    },
    "id": "MbOQXu5IF073"
   },
   "outputs": [],
   "source": []
  }
 ],
 "metadata": {
  "colab": {
   "collapsed_sections": [
    "mUNxXL51F07t",
    "dlRXZbuQF07u",
    "_coDyWwlF07v",
    "dmeImvdxF07w",
    "a3rfrzkgF07x",
    "z4WABTw8F07x"
   ],
   "name": "zerotopandas-course-project.ipynb",
   "provenance": []
  },
  "language_info": {
   "codemirror_mode": {
    "name": "ipython",
    "version": 3
   },
   "file_extension": ".py",
   "mimetype": "text/x-python",
   "name": "python",
   "nbconvert_exporter": "python",
   "pygments_lexer": "ipython3",
   "version": "3.8.5"
  }
 },
 "nbformat": 4,
 "nbformat_minor": 0
}